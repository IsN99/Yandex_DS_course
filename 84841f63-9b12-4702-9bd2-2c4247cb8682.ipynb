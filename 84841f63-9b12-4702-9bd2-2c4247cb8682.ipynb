{
 "cells": [
  {
   "cell_type": "markdown",
   "id": "3a7e9cbf",
   "metadata": {},
   "source": [
    "<div style=\"border:solid Chocolate 2px; padding: 40px\">\n",
    "\n",
    "<b>Привет!</b>\n",
    "\n",
    "Меня зовут Евгений Головин, я буду ревьюером твоего проекта. Если ты не против, то предлагаю построить наше общение на \"ты\" ;) Если удобнее на \"вы\", то нет проблем, только скажи об этом. \n",
    "\n",
    "В ходе работы я оставил тебе комментарии <font color='green'>зеленого</font>, <font color='gold'>желтого</font> и <font color='red'>красного</font> цветов. Сейчас объясню, что они значат:\n",
    "\n",
    "<br/>\n",
    "\n",
    "<div class=\"alert alert-success\">\n",
    "<h2> Комментарий ревьюера <a class=\"tocSkip\"> </h2>\n",
    "\n",
    "<b>Все супер!👍:</b> Решение на этом шаге является полностью правильным.\n",
    "</div>\n",
    "\n",
    "<br/>\n",
    "\n",
    "<div class=\"alert alert-warning\">\n",
    "    <h2> Комментарий ревьюера <a class=\"tocSkip\"> </h2>\n",
    "    \n",
    "<b>Небольшие замечания и рекомендации💡:</b> Решение на этом шаге станет еще лучше, если внести небольшие коррективы.\n",
    "</div>\n",
    "\n",
    "\n",
    "<br/>\n",
    "<div class=\"alert alert-block alert-danger\">\n",
    "<h2> Комментарий ревьюера <a class=\"tocSkip\"></h2>\n",
    "\n",
    "    \n",
    "<b>На доработку🤔:</b>\n",
    " Решение на этом шаге требует существенной переработки и внесения правок. Напоминаю, что проект не может быть принят с первого раза, если ревью содержит комментарии, рекомендующие доработать шаги.\n",
    "</div>\n",
    "    \n",
    "Увидев мой комментарий, не удаляй его, он будет очень полезен в случае повторной проверки работы :)\n",
    "    \n",
    "<div class=\"alert alert-info\">\n",
    "<b>А свой помечай вот так, чтобы я его не потерял ;)</b> \n",
    "</div>\n",
    "    \n",
    "На мои комменатрии можно и нужно реагировать, только делать это стоит так, чтобы твои и мои комменты не смешались: выделяй свои цветами, сильно отличающимися от моих.\n",
    "    \n",
    "Увидев у тебя неточность, в первый раз я лишь укажу на ее наличие и дам тебе возможность самому найти и исправить ее. На реальной работе твой руководитель будет поступать также, и я пытаюсь подготовить тебя именно к работе аналитиком. Но если ты пока не справишься с такой задачей - при следующей проверке я дам более точную подсказку!"
   ]
  },
  {
   "cell_type": "markdown",
   "id": "d9b141d2",
   "metadata": {},
   "source": [
    "# Задание\n",
    "Вы аналитик популярного сервиса аренды самокатов GoFast. Вам передали данные о некоторых пользователях из нескольких городов, а также об их поездках. Проанализируйте данные и проверьте некоторые гипотезы, которые могут помочь бизнесу вырасти.\n",
    "Чтобы совершать поездки по городу, пользователи сервиса GoFast пользуются мобильным приложением. Сервисом можно пользоваться:\n",
    "\n",
    "    без подписки\n",
    "      \n",
    "        абонентская плата отсутствует;\n",
    "        стоимость одной минуты поездки — 88 рублей;\n",
    "        стоимость старта (начала поездки) — 5050 рублей;\n",
    "    с подпиской Ultra\n",
    "      \n",
    "        абонентская плата — 199199 рублей в месяц;\n",
    "        стоимость одной минуты поездки — 66 рублей;\n",
    "        стоимость старта — бесплатно."
   ]
  },
  {
   "cell_type": "markdown",
   "id": "25e8baf8",
   "metadata": {},
   "source": [
    "# План работы\n",
    "* Шаг 1. Загрузка данных\n",
    "* Шаг 2. Предобработка данных\n",
    "* Шаг 3. Исследовательский анализ данных\n",
    "* Шаг 4. Объединение данных"
   ]
  },
  {
   "cell_type": "markdown",
   "id": "0f25dc85",
   "metadata": {},
   "source": [
    "<div class=\"alert alert-warning\">\n",
    "    <h2> Комментарий ревьюера v1 <a class=\"tocSkip\"> </h2>\n",
    "    \n",
    "<b>Небольшие замечания и рекомендации💡:</b> Супер, что начинаешь с введения! Но давай добавим еще описание данных и тогда будет идеально!"
   ]
  },
  {
   "cell_type": "code",
   "execution_count": 2,
   "id": "b3ac0ce0",
   "metadata": {},
   "outputs": [],
   "source": [
    "import pandas as pd\n",
    "import matplotlib.pyplot as plt\n",
    "import numpy as np\n",
    "from scipy import stats as st"
   ]
  },
  {
   "cell_type": "markdown",
   "id": "cea43514",
   "metadata": {},
   "source": [
    "<div class=\"alert alert-success\">\n",
    "<h2> Комментарий ревьюера v1 <a class=\"tocSkip\"> </h2>\n",
    "\n",
    "<b>Все супер!👍:</b> Молодец, что импортируешь библиотеки в отдельной ячейке"
   ]
  },
  {
   "cell_type": "markdown",
   "id": "c42cbe00",
   "metadata": {},
   "source": [
    "#### Шаг 1. Загрузка данных"
   ]
  },
  {
   "cell_type": "code",
   "execution_count": 3,
   "id": "418e6342",
   "metadata": {},
   "outputs": [],
   "source": [
    "df_users = pd.read_csv('/datasets/users_go.csv')\n",
    "df_rides = pd.read_csv('/datasets/rides_go.csv')\n",
    "df_subs = pd.read_csv('/datasets/subscriptions_go.csv')"
   ]
  },
  {
   "cell_type": "code",
   "execution_count": 7,
   "id": "931de59f",
   "metadata": {
    "scrolled": true
   },
   "outputs": [
    {
     "name": "stdout",
     "output_type": "stream",
     "text": [
      "head:{\n"
     ]
    },
    {
     "data": {
      "text/html": [
       "<div>\n",
       "<style scoped>\n",
       "    .dataframe tbody tr th:only-of-type {\n",
       "        vertical-align: middle;\n",
       "    }\n",
       "\n",
       "    .dataframe tbody tr th {\n",
       "        vertical-align: top;\n",
       "    }\n",
       "\n",
       "    .dataframe thead th {\n",
       "        text-align: right;\n",
       "    }\n",
       "</style>\n",
       "<table border=\"1\" class=\"dataframe\">\n",
       "  <thead>\n",
       "    <tr style=\"text-align: right;\">\n",
       "      <th></th>\n",
       "      <th>user_id</th>\n",
       "      <th>name</th>\n",
       "      <th>age</th>\n",
       "      <th>city</th>\n",
       "      <th>subscription_type</th>\n",
       "    </tr>\n",
       "  </thead>\n",
       "  <tbody>\n",
       "    <tr>\n",
       "      <th>0</th>\n",
       "      <td>1</td>\n",
       "      <td>Кира</td>\n",
       "      <td>22</td>\n",
       "      <td>Тюмень</td>\n",
       "      <td>ultra</td>\n",
       "    </tr>\n",
       "    <tr>\n",
       "      <th>1</th>\n",
       "      <td>2</td>\n",
       "      <td>Станислав</td>\n",
       "      <td>31</td>\n",
       "      <td>Омск</td>\n",
       "      <td>ultra</td>\n",
       "    </tr>\n",
       "    <tr>\n",
       "      <th>2</th>\n",
       "      <td>3</td>\n",
       "      <td>Алексей</td>\n",
       "      <td>20</td>\n",
       "      <td>Москва</td>\n",
       "      <td>ultra</td>\n",
       "    </tr>\n",
       "    <tr>\n",
       "      <th>3</th>\n",
       "      <td>4</td>\n",
       "      <td>Константин</td>\n",
       "      <td>26</td>\n",
       "      <td>Ростов-на-Дону</td>\n",
       "      <td>ultra</td>\n",
       "    </tr>\n",
       "    <tr>\n",
       "      <th>4</th>\n",
       "      <td>5</td>\n",
       "      <td>Адель</td>\n",
       "      <td>28</td>\n",
       "      <td>Омск</td>\n",
       "      <td>ultra</td>\n",
       "    </tr>\n",
       "  </tbody>\n",
       "</table>\n",
       "</div>"
      ],
      "text/plain": [
       "   user_id        name  age            city subscription_type\n",
       "0        1        Кира   22          Тюмень             ultra\n",
       "1        2   Станислав   31            Омск             ultra\n",
       "2        3     Алексей   20          Москва             ultra\n",
       "3        4  Константин   26  Ростов-на-Дону             ultra\n",
       "4        5       Адель   28            Омск             ultra"
      ]
     },
     "metadata": {},
     "output_type": "display_data"
    },
    {
     "name": "stdout",
     "output_type": "stream",
     "text": [
      "}\n",
      "info:{\n",
      "<class 'pandas.core.frame.DataFrame'>\n",
      "RangeIndex: 1565 entries, 0 to 1564\n",
      "Data columns (total 5 columns):\n",
      " #   Column             Non-Null Count  Dtype \n",
      "---  ------             --------------  ----- \n",
      " 0   user_id            1565 non-null   int64 \n",
      " 1   name               1565 non-null   object\n",
      " 2   age                1565 non-null   int64 \n",
      " 3   city               1565 non-null   object\n",
      " 4   subscription_type  1565 non-null   object\n",
      "dtypes: int64(2), object(3)\n",
      "memory usage: 61.3+ KB\n"
     ]
    },
    {
     "data": {
      "text/plain": [
       "None"
      ]
     },
     "metadata": {},
     "output_type": "display_data"
    },
    {
     "name": "stdout",
     "output_type": "stream",
     "text": [
      "}\n",
      "//////////////////////////////////////////////////\n",
      "head:{\n"
     ]
    },
    {
     "data": {
      "text/html": [
       "<div>\n",
       "<style scoped>\n",
       "    .dataframe tbody tr th:only-of-type {\n",
       "        vertical-align: middle;\n",
       "    }\n",
       "\n",
       "    .dataframe tbody tr th {\n",
       "        vertical-align: top;\n",
       "    }\n",
       "\n",
       "    .dataframe thead th {\n",
       "        text-align: right;\n",
       "    }\n",
       "</style>\n",
       "<table border=\"1\" class=\"dataframe\">\n",
       "  <thead>\n",
       "    <tr style=\"text-align: right;\">\n",
       "      <th></th>\n",
       "      <th>user_id</th>\n",
       "      <th>distance</th>\n",
       "      <th>duration</th>\n",
       "      <th>date</th>\n",
       "    </tr>\n",
       "  </thead>\n",
       "  <tbody>\n",
       "    <tr>\n",
       "      <th>0</th>\n",
       "      <td>1</td>\n",
       "      <td>4409.919140</td>\n",
       "      <td>25.599769</td>\n",
       "      <td>2021-01-01</td>\n",
       "    </tr>\n",
       "    <tr>\n",
       "      <th>1</th>\n",
       "      <td>1</td>\n",
       "      <td>2617.592153</td>\n",
       "      <td>15.816871</td>\n",
       "      <td>2021-01-18</td>\n",
       "    </tr>\n",
       "    <tr>\n",
       "      <th>2</th>\n",
       "      <td>1</td>\n",
       "      <td>754.159807</td>\n",
       "      <td>6.232113</td>\n",
       "      <td>2021-04-20</td>\n",
       "    </tr>\n",
       "    <tr>\n",
       "      <th>3</th>\n",
       "      <td>1</td>\n",
       "      <td>2694.783254</td>\n",
       "      <td>18.511000</td>\n",
       "      <td>2021-08-11</td>\n",
       "    </tr>\n",
       "    <tr>\n",
       "      <th>4</th>\n",
       "      <td>1</td>\n",
       "      <td>4028.687306</td>\n",
       "      <td>26.265803</td>\n",
       "      <td>2021-08-28</td>\n",
       "    </tr>\n",
       "  </tbody>\n",
       "</table>\n",
       "</div>"
      ],
      "text/plain": [
       "   user_id     distance   duration        date\n",
       "0        1  4409.919140  25.599769  2021-01-01\n",
       "1        1  2617.592153  15.816871  2021-01-18\n",
       "2        1   754.159807   6.232113  2021-04-20\n",
       "3        1  2694.783254  18.511000  2021-08-11\n",
       "4        1  4028.687306  26.265803  2021-08-28"
      ]
     },
     "metadata": {},
     "output_type": "display_data"
    },
    {
     "name": "stdout",
     "output_type": "stream",
     "text": [
      "}\n",
      "info:{\n",
      "<class 'pandas.core.frame.DataFrame'>\n",
      "RangeIndex: 18068 entries, 0 to 18067\n",
      "Data columns (total 4 columns):\n",
      " #   Column    Non-Null Count  Dtype  \n",
      "---  ------    --------------  -----  \n",
      " 0   user_id   18068 non-null  int64  \n",
      " 1   distance  18068 non-null  float64\n",
      " 2   duration  18068 non-null  float64\n",
      " 3   date      18068 non-null  object \n",
      "dtypes: float64(2), int64(1), object(1)\n",
      "memory usage: 564.8+ KB\n"
     ]
    },
    {
     "data": {
      "text/plain": [
       "None"
      ]
     },
     "metadata": {},
     "output_type": "display_data"
    },
    {
     "name": "stdout",
     "output_type": "stream",
     "text": [
      "}\n",
      "//////////////////////////////////////////////////\n",
      "head:{\n"
     ]
    },
    {
     "data": {
      "text/html": [
       "<div>\n",
       "<style scoped>\n",
       "    .dataframe tbody tr th:only-of-type {\n",
       "        vertical-align: middle;\n",
       "    }\n",
       "\n",
       "    .dataframe tbody tr th {\n",
       "        vertical-align: top;\n",
       "    }\n",
       "\n",
       "    .dataframe thead th {\n",
       "        text-align: right;\n",
       "    }\n",
       "</style>\n",
       "<table border=\"1\" class=\"dataframe\">\n",
       "  <thead>\n",
       "    <tr style=\"text-align: right;\">\n",
       "      <th></th>\n",
       "      <th>subscription_type</th>\n",
       "      <th>minute_price</th>\n",
       "      <th>start_ride_price</th>\n",
       "      <th>subscription_fee</th>\n",
       "    </tr>\n",
       "  </thead>\n",
       "  <tbody>\n",
       "    <tr>\n",
       "      <th>0</th>\n",
       "      <td>free</td>\n",
       "      <td>8</td>\n",
       "      <td>50</td>\n",
       "      <td>0</td>\n",
       "    </tr>\n",
       "    <tr>\n",
       "      <th>1</th>\n",
       "      <td>ultra</td>\n",
       "      <td>6</td>\n",
       "      <td>0</td>\n",
       "      <td>199</td>\n",
       "    </tr>\n",
       "  </tbody>\n",
       "</table>\n",
       "</div>"
      ],
      "text/plain": [
       "  subscription_type  minute_price  start_ride_price  subscription_fee\n",
       "0              free             8                50                 0\n",
       "1             ultra             6                 0               199"
      ]
     },
     "metadata": {},
     "output_type": "display_data"
    },
    {
     "name": "stdout",
     "output_type": "stream",
     "text": [
      "}\n",
      "info:{\n",
      "<class 'pandas.core.frame.DataFrame'>\n",
      "RangeIndex: 2 entries, 0 to 1\n",
      "Data columns (total 4 columns):\n",
      " #   Column             Non-Null Count  Dtype \n",
      "---  ------             --------------  ----- \n",
      " 0   subscription_type  2 non-null      object\n",
      " 1   minute_price       2 non-null      int64 \n",
      " 2   start_ride_price   2 non-null      int64 \n",
      " 3   subscription_fee   2 non-null      int64 \n",
      "dtypes: int64(3), object(1)\n",
      "memory usage: 192.0+ bytes\n"
     ]
    },
    {
     "data": {
      "text/plain": [
       "None"
      ]
     },
     "metadata": {},
     "output_type": "display_data"
    },
    {
     "name": "stdout",
     "output_type": "stream",
     "text": [
      "}\n",
      "//////////////////////////////////////////////////\n"
     ]
    }
   ],
   "source": [
    "for df in (df_users, df_rides, df_subs):\n",
    "    print(\"head:{\")\n",
    "    display(df.head())\n",
    "    print(\"}\")\n",
    "    print(\"info:{\")\n",
    "    display(df.info())\n",
    "    print(\"}\")\n",
    "    print(\"//////////////////////////////////////////////////\")"
   ]
  },
  {
   "cell_type": "markdown",
   "id": "5fdbf91a",
   "metadata": {},
   "source": [
    "# Вывод\n",
    "\n",
    "Имеем три датафрейма с выборками даных вероятно из таблиц БД. В первой табице имеем столбцы, относящиеся к пользователю, с id, именем, городом, возрастом, наличием подписки.\n",
    "Во втором дата-фрейме видим информацию о поездках тех или иных пользователей с колонками id пользователя, дистанции, продолжительности и даты.\n",
    "В третьем дата-фрейме имеем теблицу с данными ценообразования для плоьзователй с подпиской и без."
   ]
  },
  {
   "cell_type": "markdown",
   "id": "9b2bd0ef",
   "metadata": {},
   "source": [
    "<div class=\"alert alert-warning\">\n",
    "    <h2> Комментарий ревьюера v1 <a class=\"tocSkip\"> </h2>\n",
    "    \n",
    "<b>Небольшие замечания и рекомендации💡:</b> print() работал для списков и словарей, для датафрейм следует использовать display()\n",
    "        \n",
    "<div class=\"alert alert-info\">\n",
    "<b>Пофикшено</b> \n",
    "</div>"
   ]
  },
  {
   "cell_type": "markdown",
   "id": "eb6aa226",
   "metadata": {},
   "source": [
    "<div class=\"alert alert-block alert-danger\">\n",
    "<h2> Комментарий ревьюера v1 <a class=\"tocSkip\"></h2>\n",
    "\n",
    "<b>На доработку🤔:</b>  Сделаем вывод по обзору данных? \n",
    "    \n",
    "<div class=\"alert alert-info\">\n",
    "<b>Пофикшено</b> \n",
    "</div>"
   ]
  },
  {
   "cell_type": "markdown",
   "id": "5023bd07",
   "metadata": {},
   "source": [
    "<div class=\"alert alert-success\">\n",
    "<h2> Комментарий ревьюера v2 <a class=\"tocSkip\"> </h2>\n",
    "\n",
    "<b>Все супер!👍:</b> Респект!"
   ]
  },
  {
   "cell_type": "markdown",
   "id": "e95ebca7",
   "metadata": {},
   "source": [
    "#### Шаг 2. Предобработка данных"
   ]
  },
  {
   "cell_type": "code",
   "execution_count": 8,
   "id": "29a73b04",
   "metadata": {
    "scrolled": true
   },
   "outputs": [
    {
     "data": {
      "text/html": [
       "<div>\n",
       "<style scoped>\n",
       "    .dataframe tbody tr th:only-of-type {\n",
       "        vertical-align: middle;\n",
       "    }\n",
       "\n",
       "    .dataframe tbody tr th {\n",
       "        vertical-align: top;\n",
       "    }\n",
       "\n",
       "    .dataframe thead th {\n",
       "        text-align: right;\n",
       "    }\n",
       "</style>\n",
       "<table border=\"1\" class=\"dataframe\">\n",
       "  <thead>\n",
       "    <tr style=\"text-align: right;\">\n",
       "      <th></th>\n",
       "      <th>user_id</th>\n",
       "      <th>distance</th>\n",
       "      <th>duration</th>\n",
       "      <th>date</th>\n",
       "      <th>month</th>\n",
       "    </tr>\n",
       "  </thead>\n",
       "  <tbody>\n",
       "    <tr>\n",
       "      <th>0</th>\n",
       "      <td>1</td>\n",
       "      <td>4409.919140</td>\n",
       "      <td>25.599769</td>\n",
       "      <td>2021-01-01</td>\n",
       "      <td>1</td>\n",
       "    </tr>\n",
       "    <tr>\n",
       "      <th>1</th>\n",
       "      <td>1</td>\n",
       "      <td>2617.592153</td>\n",
       "      <td>15.816871</td>\n",
       "      <td>2021-01-18</td>\n",
       "      <td>1</td>\n",
       "    </tr>\n",
       "    <tr>\n",
       "      <th>2</th>\n",
       "      <td>1</td>\n",
       "      <td>754.159807</td>\n",
       "      <td>6.232113</td>\n",
       "      <td>2021-04-20</td>\n",
       "      <td>4</td>\n",
       "    </tr>\n",
       "    <tr>\n",
       "      <th>3</th>\n",
       "      <td>1</td>\n",
       "      <td>2694.783254</td>\n",
       "      <td>18.511000</td>\n",
       "      <td>2021-08-11</td>\n",
       "      <td>8</td>\n",
       "    </tr>\n",
       "    <tr>\n",
       "      <th>4</th>\n",
       "      <td>1</td>\n",
       "      <td>4028.687306</td>\n",
       "      <td>26.265803</td>\n",
       "      <td>2021-08-28</td>\n",
       "      <td>8</td>\n",
       "    </tr>\n",
       "  </tbody>\n",
       "</table>\n",
       "</div>"
      ],
      "text/plain": [
       "   user_id     distance   duration       date  month\n",
       "0        1  4409.919140  25.599769 2021-01-01      1\n",
       "1        1  2617.592153  15.816871 2021-01-18      1\n",
       "2        1   754.159807   6.232113 2021-04-20      4\n",
       "3        1  2694.783254  18.511000 2021-08-11      8\n",
       "4        1  4028.687306  26.265803 2021-08-28      8"
      ]
     },
     "execution_count": 8,
     "metadata": {},
     "output_type": "execute_result"
    }
   ],
   "source": [
    "df_rides.date = pd.to_datetime(df_rides.date, format='%Y-%m-%d')\n",
    "df_rides['month'] = df_rides.date.dt.month\n",
    "df_rides.head()"
   ]
  },
  {
   "cell_type": "code",
   "execution_count": 22,
   "id": "e8b8aa0c",
   "metadata": {},
   "outputs": [
    {
     "name": "stdout",
     "output_type": "stream",
     "text": [
      "[2021]\n",
      "[ 1  2  3  4  5  6  7  8  9 10 11 12]\n"
     ]
    }
   ],
   "source": [
    "print(df_rides.date.dt.year.unique())\n",
    "print(df_rides.date.sort_values().dt.month.unique())"
   ]
  },
  {
   "cell_type": "markdown",
   "id": "8dbcf968",
   "metadata": {},
   "source": [
    "<div class=\"alert alert-success\">\n",
    "<h2> Комментарий ревьюера v1 <a class=\"tocSkip\"> </h2>\n",
    "\n",
    "<b>Все супер!👍:</b> Верно, дата должна быть датой) "
   ]
  },
  {
   "cell_type": "markdown",
   "id": "60575ef6",
   "metadata": {},
   "source": [
    "<div class=\"alert alert-warning\">\n",
    "    <h2> Комментарий ревьюера v1 <a class=\"tocSkip\"> </h2>\n",
    "    \n",
    "<b>Небольшие замечания и рекомендации💡:</b> Столбец добавили, только давай проверим данные за сколько лет мы имеем? Это важно понимать, чтоб данные не склеились при агрегации\n",
    "        <div class=\"alert alert-info\">\n",
    "<b>Пофикшено</b> \n",
    "</div>"
   ]
  },
  {
   "cell_type": "markdown",
   "id": "e7a8321e",
   "metadata": {},
   "source": [
    "<div class=\"alert alert-success\">\n",
    "<h2> Комментарий ревьюера v2 <a class=\"tocSkip\"> </h2>\n",
    "\n",
    "<b>Все супер!👍:</b>Хороешчно!"
   ]
  },
  {
   "cell_type": "code",
   "execution_count": 5,
   "id": "af6d202c",
   "metadata": {},
   "outputs": [
    {
     "name": "stdout",
     "output_type": "stream",
     "text": [
      "ДУБЛИКАТЫ:{\n",
      "31\n",
      "}\n",
      "ПРОПУСКИ:{\n",
      "user_id              0\n",
      "name                 0\n",
      "age                  0\n",
      "city                 0\n",
      "subscription_type    0\n",
      "dtype: int64\n",
      "}\n",
      "\n",
      "ДУБЛИКАТЫ:{\n",
      "0\n",
      "}\n",
      "ПРОПУСКИ:{\n",
      "user_id     0\n",
      "distance    0\n",
      "duration    0\n",
      "date        0\n",
      "month       0\n",
      "dtype: int64\n",
      "}\n",
      "\n",
      "ДУБЛИКАТЫ:{\n",
      "0\n",
      "}\n",
      "ПРОПУСКИ:{\n",
      "subscription_type    0\n",
      "minute_price         0\n",
      "start_ride_price     0\n",
      "subscription_fee     0\n",
      "dtype: int64\n",
      "}\n",
      "\n"
     ]
    }
   ],
   "source": [
    "for df in (df_users, df_rides, df_subs):\n",
    "    print(\"ДУБЛИКАТЫ:{\")\n",
    "    print(df.duplicated().sum())\n",
    "    print(\"}\")\n",
    "    print(\"ПРОПУСКИ:{\")\n",
    "    print(df.isnull().sum())\n",
    "    print(\"}\\n\")\n"
   ]
  },
  {
   "cell_type": "code",
   "execution_count": 6,
   "id": "94d6440c",
   "metadata": {},
   "outputs": [
    {
     "name": "stdout",
     "output_type": "stream",
     "text": [
      "Количество явных дубликатов в датасете: 0\n"
     ]
    }
   ],
   "source": [
    "# удалим дубликаты\n",
    "df_users = df_users.drop_duplicates()\n",
    "print('Количество явных дубликатов в датасете:', df_users.duplicated().sum())"
   ]
  },
  {
   "cell_type": "markdown",
   "id": "e5bfa696",
   "metadata": {},
   "source": [
    "# Вывод\n",
    "Удалили дубликаты. Перевели столбец с датой из строкового представления в тип даты. Представлены данные за 12 месяцев 2021 года."
   ]
  },
  {
   "cell_type": "markdown",
   "id": "80c7101a",
   "metadata": {},
   "source": [
    "<div class=\"alert alert-block alert-danger\">\n",
    "<h2> Комментарий ревьюера v1 <a class=\"tocSkip\"></h2>\n",
    "\n",
    "<b>На доработку🤔:</b>  А вывод?)\n",
    "            <div class=\"alert alert-info\">\n",
    "<b>Пофикшено</b> \n",
    "</div>"
   ]
  },
  {
   "cell_type": "markdown",
   "id": "f60cb8f1",
   "metadata": {},
   "source": [
    "<div class=\"alert alert-success\">\n",
    "<h2> Комментарий ревьюера v2 <a class=\"tocSkip\"> </h2>\n",
    "\n",
    "<b>Все супер!👍:</b> Хорошо, согласен)"
   ]
  },
  {
   "cell_type": "markdown",
   "id": "212593c7",
   "metadata": {},
   "source": [
    "#### Шаг 3. Исследовательский анализ данных"
   ]
  },
  {
   "cell_type": "code",
   "execution_count": 28,
   "id": "e3a4274c",
   "metadata": {
    "scrolled": true
   },
   "outputs": [
    {
     "data": {
      "image/png": "[encoded data removed]",
      "text/plain": [
       "<Figure size 432x216 with 1 Axes>"
      ]
     },
     "metadata": {
      "needs_background": "light"
     },
     "output_type": "display_data"
    },
    {
     "name": "stdout",
     "output_type": "stream",
     "text": [
      "                user_id\n",
      "city                   \n",
      "Пятигорск           226\n",
      "Екатеринбург        206\n",
      "Ростов-на-Дону      202\n",
      "Краснодар           196\n",
      "Сочи                192\n",
      "Омск                186\n",
      "Тюмень              185\n",
      "Москва              172\n"
     ]
    }
   ],
   "source": [
    "df_users_city = df_users.pivot_table(index = 'city', values = 'user_id', aggfunc = 'count')\n",
    "df_users_city = df_users_city.sort_values(by='user_id', ascending = False)\n",
    "df_users_city.plot( kind='bar', figsize = (6,3), grid = True )\n",
    "plt.title('Частота встречаемости городов')\n",
    "plt.xlabel('Количество пользователей')\n",
    "plt.ylabel('Города')\n",
    "plt.legend(loc='lower left')\n",
    "plt.show()\n",
    "print(df_users_city.sort_values(by='user_id', ascending = False))"
   ]
  },
  {
   "cell_type": "markdown",
   "id": "1b9b01a1",
   "metadata": {},
   "source": [
    "<div class=\"alert alert-warning\">\n",
    "    <h2> Комментарий ревьюера v1 <a class=\"tocSkip\"> </h2>\n",
    "    \n",
    "<b>Небольшие замечания и рекомендации💡:</b> Верно. Молодец! Только обычно данные сортируют от большего к меньшему) \n",
    "                <div class=\"alert alert-info\">\n",
    "<b>Пофикшено</b> \n",
    "</div>"
   ]
  },
  {
   "cell_type": "markdown",
   "id": "3d6b1c27",
   "metadata": {},
   "source": [
    "<div class=\"alert alert-success\">\n",
    "<h2> Комментарий ревьюера v2 <a class=\"tocSkip\"> </h2>\n",
    "\n",
    "<b>Все супер!👍:</b>Лайк"
   ]
  },
  {
   "cell_type": "code",
   "execution_count": 33,
   "id": "05d4138f",
   "metadata": {},
   "outputs": [
    {
     "data": {
      "image/png": "[encoded data removed]",
      "text/plain": [
       "<Figure size 432x432 with 1 Axes>"
      ]
     },
     "metadata": {},
     "output_type": "display_data"
    },
    {
     "name": "stdout",
     "output_type": "stream",
     "text": [
      "  subscription_type  user_id  Percentage\n",
      "0              free      846   54.057508\n",
      "1             ultra      719   45.942492\n"
     ]
    }
   ],
   "source": [
    "df_users_subs = df_users.pivot_table(index = 'subscription_type', values = 'user_id', aggfunc = 'count').reset_index()\n",
    "df_users_subs['Percentage'] = df_users_subs['user_id'] / df_users_subs['user_id'].sum() * 100\n",
    "plt.figure(figsize=(6, 6))\n",
    "plt.pie(df_users_subs['user_id'], labels=df_users_subs['subscription_type'], autopct='%1.1f%%', startangle=90)\n",
    "plt.title('Соотношение пользователей с типом подписки')\n",
    "plt.show()\n",
    "\n",
    "print(df_users_subs)"
   ]
  },
  {
   "cell_type": "markdown",
   "id": "d56de976",
   "metadata": {},
   "source": [
    "<div class=\"alert alert-block alert-danger\">\n",
    "<h2> Комментарий ревьюера v1 <a class=\"tocSkip\"></h2>\n",
    "\n",
    "<b>На доработку🤔:</b>  Посчитаем долю пользователей с подпиской и без? И я бы советовал отразить информацию на круговой диаграмме. \n",
    "<div class=\"alert alert-info\">\n",
    "<b>Пофикшено</b> \n",
    "</div>"
   ]
  },
  {
   "cell_type": "markdown",
   "id": "b4958c0e",
   "metadata": {},
   "source": [
    "<div class=\"alert alert-success\">\n",
    "<h2> Комментарий ревьюера v2 <a class=\"tocSkip\"> </h2>\n",
    "\n",
    "<b>Все супер!👍:</b> Теперь идеально!"
   ]
  },
  {
   "cell_type": "code",
   "execution_count": 9,
   "id": "6c1aaba6",
   "metadata": {},
   "outputs": [
    {
     "data": {
      "image/png": "[encoded data removed]",
      "text/plain": [
       "<Figure size 504x216 with 1 Axes>"
      ]
     },
     "metadata": {
      "needs_background": "light"
     },
     "output_type": "display_data"
    },
    {
     "data": {
      "image/png": "[encoded data removed]",
      "text/plain": [
       "<Figure size 504x216 with 1 Axes>"
      ]
     },
     "metadata": {
      "needs_background": "light"
     },
     "output_type": "display_data"
    },
    {
     "data": {
      "text/plain": [
       "count    1534.000000\n",
       "mean       24.903520\n",
       "std         4.572367\n",
       "min        12.000000\n",
       "25%        22.000000\n",
       "50%        25.000000\n",
       "75%        28.000000\n",
       "max        43.000000\n",
       "Name: age, dtype: float64"
      ]
     },
     "execution_count": 9,
     "metadata": {},
     "output_type": "execute_result"
    }
   ],
   "source": [
    "df_users['age'].plot(kind='hist', grid=True, figsize=(7, 3), bins=30)\n",
    "plt.title('Возраст пользователей')\n",
    "plt.xlabel('Возраст')\n",
    "plt.ylabel('Количество пользователей')\n",
    "plt.show()\n",
    "\n",
    "df_users['age'].plot(kind='box', grid=True, figsize=(7, 3))\n",
    "plt.title('Возраст пользователей')\n",
    "plt.xlabel('Возраст')\n",
    "plt.ylabel('')\n",
    "plt.show()\n",
    "\n",
    "df_users['age'].describe()"
   ]
  },
  {
   "cell_type": "code",
   "execution_count": null,
   "id": "92481d8c",
   "metadata": {},
   "outputs": [],
   "source": []
  },
  {
   "cell_type": "code",
   "execution_count": 10,
   "id": "39a40afb",
   "metadata": {},
   "outputs": [
    {
     "data": {
      "image/png": "[encoded data removed]",
      "text/plain": [
       "<Figure size 504x216 with 1 Axes>"
      ]
     },
     "metadata": {
      "needs_background": "light"
     },
     "output_type": "display_data"
    },
    {
     "data": {
      "image/png": "[encoded data removed]",
      "text/plain": [
       "<Figure size 504x216 with 1 Axes>"
      ]
     },
     "metadata": {
      "needs_background": "light"
     },
     "output_type": "display_data"
    },
    {
     "data": {
      "text/plain": [
       "count    18068.000000\n",
       "mean      3070.659976\n",
       "std       1116.831209\n",
       "min          0.855683\n",
       "25%       2543.226360\n",
       "50%       3133.609994\n",
       "75%       3776.222735\n",
       "max       7211.007745\n",
       "Name: distance, dtype: float64"
      ]
     },
     "execution_count": 10,
     "metadata": {},
     "output_type": "execute_result"
    }
   ],
   "source": [
    "df_rides['distance'].plot(kind = 'hist', grid=True, figsize = (7,3), bins = 30)\n",
    "plt.title('Расстояние одной поездки')\n",
    "plt.xlabel('расстояние, м')\n",
    "plt.ylabel('количество пользователей')\n",
    "plt.show()\n",
    "\n",
    "df_rides['distance'].plot(kind='box', grid=True, figsize=(7, 3))\n",
    "plt.title('Расстояние одной поездки')\n",
    "plt.xlabel('расстояние, м')\n",
    "plt.ylabel('')\n",
    "plt.show()\n",
    "\n",
    "df_rides['distance'].describe()"
   ]
  },
  {
   "cell_type": "code",
   "execution_count": 34,
   "id": "72cd5646",
   "metadata": {
    "scrolled": false
   },
   "outputs": [
    {
     "data": {
      "image/png": "[encoded data removed]",
      "text/plain": [
       "<Figure size 504x216 with 1 Axes>"
      ]
     },
     "metadata": {
      "needs_background": "light"
     },
     "output_type": "display_data"
    },
    {
     "data": {
      "image/png": "[encoded data removed]",
      "text/plain": [
       "<Figure size 504x216 with 1 Axes>"
      ]
     },
     "metadata": {
      "needs_background": "light"
     },
     "output_type": "display_data"
    },
    {
     "data": {
      "text/plain": [
       "count    18068.000000\n",
       "mean        17.805011\n",
       "std          6.091051\n",
       "min          0.500000\n",
       "25%         13.597563\n",
       "50%         17.678395\n",
       "75%         21.724800\n",
       "max         40.823963\n",
       "Name: duration, dtype: float64"
      ]
     },
     "execution_count": 34,
     "metadata": {},
     "output_type": "execute_result"
    }
   ],
   "source": [
    "df_rides['duration'].plot(kind = 'hist', grid=True, figsize = (7,3), bins = 30)\n",
    "plt.title('Продолжительность одной поездки')\n",
    "plt.xlabel('время, мин')\n",
    "plt.ylabel('количество пользователей')\n",
    "plt.show()\n",
    "\n",
    "df_rides['duration'].plot(kind='box', grid=True, figsize=(7, 3))\n",
    "plt.title('Продолжительность одной поездки')\n",
    "plt.xlabel('время, мин')\n",
    "plt.ylabel('')\n",
    "plt.show()\n",
    "\n",
    "df_rides['duration'].describe()"
   ]
  },
  {
   "cell_type": "markdown",
   "id": "af7cddca",
   "metadata": {},
   "source": [
    "# Вывод\n",
    "Был проведен исследовательский анализ. Мы выяснили, что Пятигорск - самый популярный город среди пользователей, в то время как Москва показала меньшее количество пользователей. Средний возраст наших клиентов составляет примерно 24.9 лет, что помогает лучше определить целевую аудиторию.\n",
    "Анализ расстояния и продолжительности поездок показал, что большинство поездок превышают 3 километра, но также есть короткие поездки на расстояния около 600 метров, что скорее всего свидетельствует о том, что сервис используется для перемещения к остановкам общественного транспорта. Средняя продолжительность поездки 17,8 минут."
   ]
  },
  {
   "cell_type": "markdown",
   "id": "dd16e61e",
   "metadata": {},
   "source": [
    "<div class=\"alert alert-success\">\n",
    "<h2> Комментарий ревьюера v1 <a class=\"tocSkip\"> </h2>\n",
    "\n",
    "<b>Все супер!👍:</b> Графики рассмотрены верно!"
   ]
  },
  {
   "cell_type": "markdown",
   "id": "0be0f267",
   "metadata": {},
   "source": [
    "<div class=\"alert alert-block alert-danger\">\n",
    "<h2> Комментарий ревьюера v1 <a class=\"tocSkip\"></h2>\n",
    "\n",
    "<b>На доработку🤔:</b>  Не хвататет промежуточных выводов по каждому пункту)\n",
    "<div class=\"alert alert-info\">\n",
    "<b>Пофикшено</b> \n",
    "</div>"
   ]
  },
  {
   "cell_type": "markdown",
   "id": "de0dd978",
   "metadata": {},
   "source": [
    "<div class=\"alert alert-success\">\n",
    "<h2> Комментарий ревьюера v2 <a class=\"tocSkip\"> </h2>\n",
    "\n",
    "<b>Все супер!👍:</b>Отлично, молодец!"
   ]
  },
  {
   "cell_type": "markdown",
   "id": "4ef51331",
   "metadata": {},
   "source": [
    "#### Шаг 4. Объединение данных"
   ]
  },
  {
   "cell_type": "code",
   "execution_count": 35,
   "id": "6bf288b5",
   "metadata": {
    "scrolled": true
   },
   "outputs": [
    {
     "data": {
      "text/html": [
       "<div>\n",
       "<style scoped>\n",
       "    .dataframe tbody tr th:only-of-type {\n",
       "        vertical-align: middle;\n",
       "    }\n",
       "\n",
       "    .dataframe tbody tr th {\n",
       "        vertical-align: top;\n",
       "    }\n",
       "\n",
       "    .dataframe thead th {\n",
       "        text-align: right;\n",
       "    }\n",
       "</style>\n",
       "<table border=\"1\" class=\"dataframe\">\n",
       "  <thead>\n",
       "    <tr style=\"text-align: right;\">\n",
       "      <th></th>\n",
       "      <th>user_id</th>\n",
       "      <th>distance</th>\n",
       "      <th>duration</th>\n",
       "      <th>date</th>\n",
       "      <th>month</th>\n",
       "      <th>name</th>\n",
       "      <th>age</th>\n",
       "      <th>city</th>\n",
       "      <th>subscription_type</th>\n",
       "      <th>minute_price</th>\n",
       "      <th>start_ride_price</th>\n",
       "      <th>subscription_fee</th>\n",
       "    </tr>\n",
       "  </thead>\n",
       "  <tbody>\n",
       "    <tr>\n",
       "      <th>0</th>\n",
       "      <td>1</td>\n",
       "      <td>4409.919140</td>\n",
       "      <td>25.599769</td>\n",
       "      <td>2021-01-01</td>\n",
       "      <td>1</td>\n",
       "      <td>Кира</td>\n",
       "      <td>22</td>\n",
       "      <td>Тюмень</td>\n",
       "      <td>ultra</td>\n",
       "      <td>6</td>\n",
       "      <td>0</td>\n",
       "      <td>199</td>\n",
       "    </tr>\n",
       "    <tr>\n",
       "      <th>1</th>\n",
       "      <td>1</td>\n",
       "      <td>2617.592153</td>\n",
       "      <td>15.816871</td>\n",
       "      <td>2021-01-18</td>\n",
       "      <td>1</td>\n",
       "      <td>Кира</td>\n",
       "      <td>22</td>\n",
       "      <td>Тюмень</td>\n",
       "      <td>ultra</td>\n",
       "      <td>6</td>\n",
       "      <td>0</td>\n",
       "      <td>199</td>\n",
       "    </tr>\n",
       "    <tr>\n",
       "      <th>2</th>\n",
       "      <td>1</td>\n",
       "      <td>754.159807</td>\n",
       "      <td>6.232113</td>\n",
       "      <td>2021-04-20</td>\n",
       "      <td>4</td>\n",
       "      <td>Кира</td>\n",
       "      <td>22</td>\n",
       "      <td>Тюмень</td>\n",
       "      <td>ultra</td>\n",
       "      <td>6</td>\n",
       "      <td>0</td>\n",
       "      <td>199</td>\n",
       "    </tr>\n",
       "    <tr>\n",
       "      <th>3</th>\n",
       "      <td>1</td>\n",
       "      <td>2694.783254</td>\n",
       "      <td>18.511000</td>\n",
       "      <td>2021-08-11</td>\n",
       "      <td>8</td>\n",
       "      <td>Кира</td>\n",
       "      <td>22</td>\n",
       "      <td>Тюмень</td>\n",
       "      <td>ultra</td>\n",
       "      <td>6</td>\n",
       "      <td>0</td>\n",
       "      <td>199</td>\n",
       "    </tr>\n",
       "    <tr>\n",
       "      <th>4</th>\n",
       "      <td>1</td>\n",
       "      <td>4028.687306</td>\n",
       "      <td>26.265803</td>\n",
       "      <td>2021-08-28</td>\n",
       "      <td>8</td>\n",
       "      <td>Кира</td>\n",
       "      <td>22</td>\n",
       "      <td>Тюмень</td>\n",
       "      <td>ultra</td>\n",
       "      <td>6</td>\n",
       "      <td>0</td>\n",
       "      <td>199</td>\n",
       "    </tr>\n",
       "  </tbody>\n",
       "</table>\n",
       "</div>"
      ],
      "text/plain": [
       "   user_id     distance   duration       date  month  name  age    city  \\\n",
       "0        1  4409.919140  25.599769 2021-01-01      1  Кира   22  Тюмень   \n",
       "1        1  2617.592153  15.816871 2021-01-18      1  Кира   22  Тюмень   \n",
       "2        1   754.159807   6.232113 2021-04-20      4  Кира   22  Тюмень   \n",
       "3        1  2694.783254  18.511000 2021-08-11      8  Кира   22  Тюмень   \n",
       "4        1  4028.687306  26.265803 2021-08-28      8  Кира   22  Тюмень   \n",
       "\n",
       "  subscription_type  minute_price  start_ride_price  subscription_fee  \n",
       "0             ultra             6                 0               199  \n",
       "1             ultra             6                 0               199  \n",
       "2             ultra             6                 0               199  \n",
       "3             ultra             6                 0               199  \n",
       "4             ultra             6                 0               199  "
      ]
     },
     "metadata": {},
     "output_type": "display_data"
    }
   ],
   "source": [
    "df_merged = df_rides.copy()\n",
    "df_merged = df_merged.merge(df_users, how = 'left', on = 'user_id' )\n",
    "df_merged = df_merged.merge(df_subs, how = 'left', on='subscription_type')\n",
    "display(df_merged.head())"
   ]
  },
  {
   "cell_type": "markdown",
   "id": "8d53940d",
   "metadata": {},
   "source": [
    "<div class=\"alert alert-warning\">\n",
    "    <h2> Комментарий ревьюера v1 <a class=\"tocSkip\"> </h2>\n",
    "    \n",
    "<b>Небольшие замечания и рекомендации💡:</b> Объединение выполнено верно! Но не забывай, что в датафреймах используем display()\n",
    "        \n",
    "<div class=\"alert alert-info\">\n",
    "<b>Пофикшено</b> \n",
    "</div>"
   ]
  },
  {
   "cell_type": "code",
   "execution_count": 36,
   "id": "0e69519d",
   "metadata": {},
   "outputs": [
    {
     "data": {
      "text/html": [
       "<div>\n",
       "<style scoped>\n",
       "    .dataframe tbody tr th:only-of-type {\n",
       "        vertical-align: middle;\n",
       "    }\n",
       "\n",
       "    .dataframe tbody tr th {\n",
       "        vertical-align: top;\n",
       "    }\n",
       "\n",
       "    .dataframe thead th {\n",
       "        text-align: right;\n",
       "    }\n",
       "</style>\n",
       "<table border=\"1\" class=\"dataframe\">\n",
       "  <thead>\n",
       "    <tr style=\"text-align: right;\">\n",
       "      <th></th>\n",
       "      <th>user_id</th>\n",
       "      <th>distance</th>\n",
       "      <th>duration</th>\n",
       "      <th>date</th>\n",
       "      <th>month</th>\n",
       "      <th>name</th>\n",
       "      <th>age</th>\n",
       "      <th>city</th>\n",
       "      <th>subscription_type</th>\n",
       "      <th>minute_price</th>\n",
       "      <th>start_ride_price</th>\n",
       "      <th>subscription_fee</th>\n",
       "    </tr>\n",
       "  </thead>\n",
       "  <tbody>\n",
       "    <tr>\n",
       "      <th>6672</th>\n",
       "      <td>700</td>\n",
       "      <td>2515.690719</td>\n",
       "      <td>14.944286</td>\n",
       "      <td>2021-01-02</td>\n",
       "      <td>1</td>\n",
       "      <td>Айдар</td>\n",
       "      <td>22</td>\n",
       "      <td>Омск</td>\n",
       "      <td>free</td>\n",
       "      <td>8</td>\n",
       "      <td>50</td>\n",
       "      <td>0</td>\n",
       "    </tr>\n",
       "    <tr>\n",
       "      <th>6673</th>\n",
       "      <td>700</td>\n",
       "      <td>846.932642</td>\n",
       "      <td>16.234663</td>\n",
       "      <td>2021-02-01</td>\n",
       "      <td>2</td>\n",
       "      <td>Айдар</td>\n",
       "      <td>22</td>\n",
       "      <td>Омск</td>\n",
       "      <td>free</td>\n",
       "      <td>8</td>\n",
       "      <td>50</td>\n",
       "      <td>0</td>\n",
       "    </tr>\n",
       "    <tr>\n",
       "      <th>6674</th>\n",
       "      <td>700</td>\n",
       "      <td>4004.434142</td>\n",
       "      <td>20.016628</td>\n",
       "      <td>2021-02-04</td>\n",
       "      <td>2</td>\n",
       "      <td>Айдар</td>\n",
       "      <td>22</td>\n",
       "      <td>Омск</td>\n",
       "      <td>free</td>\n",
       "      <td>8</td>\n",
       "      <td>50</td>\n",
       "      <td>0</td>\n",
       "    </tr>\n",
       "    <tr>\n",
       "      <th>6675</th>\n",
       "      <td>700</td>\n",
       "      <td>1205.911290</td>\n",
       "      <td>9.782872</td>\n",
       "      <td>2021-02-10</td>\n",
       "      <td>2</td>\n",
       "      <td>Айдар</td>\n",
       "      <td>22</td>\n",
       "      <td>Омск</td>\n",
       "      <td>free</td>\n",
       "      <td>8</td>\n",
       "      <td>50</td>\n",
       "      <td>0</td>\n",
       "    </tr>\n",
       "    <tr>\n",
       "      <th>6676</th>\n",
       "      <td>700</td>\n",
       "      <td>3047.379435</td>\n",
       "      <td>17.427673</td>\n",
       "      <td>2021-02-14</td>\n",
       "      <td>2</td>\n",
       "      <td>Айдар</td>\n",
       "      <td>22</td>\n",
       "      <td>Омск</td>\n",
       "      <td>free</td>\n",
       "      <td>8</td>\n",
       "      <td>50</td>\n",
       "      <td>0</td>\n",
       "    </tr>\n",
       "  </tbody>\n",
       "</table>\n",
       "</div>"
      ],
      "text/plain": [
       "      user_id     distance   duration       date  month   name  age  city  \\\n",
       "6672      700  2515.690719  14.944286 2021-01-02      1  Айдар   22  Омск   \n",
       "6673      700   846.932642  16.234663 2021-02-01      2  Айдар   22  Омск   \n",
       "6674      700  4004.434142  20.016628 2021-02-04      2  Айдар   22  Омск   \n",
       "6675      700  1205.911290   9.782872 2021-02-10      2  Айдар   22  Омск   \n",
       "6676      700  3047.379435  17.427673 2021-02-14      2  Айдар   22  Омск   \n",
       "\n",
       "     subscription_type  minute_price  start_ride_price  subscription_fee  \n",
       "6672              free             8                50                 0  \n",
       "6673              free             8                50                 0  \n",
       "6674              free             8                50                 0  \n",
       "6675              free             8                50                 0  \n",
       "6676              free             8                50                 0  "
      ]
     },
     "metadata": {},
     "output_type": "display_data"
    },
    {
     "data": {
      "text/plain": [
       "140592"
      ]
     },
     "metadata": {},
     "output_type": "display_data"
    }
   ],
   "source": [
    "df_without_S = df_merged[df_merged['subscription_type'] == 'free']\n",
    "display(df_without_S.head())\n",
    "display(df_without_S.count().sum())"
   ]
  },
  {
   "cell_type": "code",
   "execution_count": 37,
   "id": "9ac7920e",
   "metadata": {
    "scrolled": true
   },
   "outputs": [
    {
     "data": {
      "text/html": [
       "<div>\n",
       "<style scoped>\n",
       "    .dataframe tbody tr th:only-of-type {\n",
       "        vertical-align: middle;\n",
       "    }\n",
       "\n",
       "    .dataframe tbody tr th {\n",
       "        vertical-align: top;\n",
       "    }\n",
       "\n",
       "    .dataframe thead th {\n",
       "        text-align: right;\n",
       "    }\n",
       "</style>\n",
       "<table border=\"1\" class=\"dataframe\">\n",
       "  <thead>\n",
       "    <tr style=\"text-align: right;\">\n",
       "      <th></th>\n",
       "      <th>user_id</th>\n",
       "      <th>distance</th>\n",
       "      <th>duration</th>\n",
       "      <th>date</th>\n",
       "      <th>month</th>\n",
       "      <th>name</th>\n",
       "      <th>age</th>\n",
       "      <th>city</th>\n",
       "      <th>subscription_type</th>\n",
       "      <th>minute_price</th>\n",
       "      <th>start_ride_price</th>\n",
       "      <th>subscription_fee</th>\n",
       "    </tr>\n",
       "  </thead>\n",
       "  <tbody>\n",
       "    <tr>\n",
       "      <th>0</th>\n",
       "      <td>1</td>\n",
       "      <td>4409.919140</td>\n",
       "      <td>25.599769</td>\n",
       "      <td>2021-01-01</td>\n",
       "      <td>1</td>\n",
       "      <td>Кира</td>\n",
       "      <td>22</td>\n",
       "      <td>Тюмень</td>\n",
       "      <td>ultra</td>\n",
       "      <td>6</td>\n",
       "      <td>0</td>\n",
       "      <td>199</td>\n",
       "    </tr>\n",
       "    <tr>\n",
       "      <th>1</th>\n",
       "      <td>1</td>\n",
       "      <td>2617.592153</td>\n",
       "      <td>15.816871</td>\n",
       "      <td>2021-01-18</td>\n",
       "      <td>1</td>\n",
       "      <td>Кира</td>\n",
       "      <td>22</td>\n",
       "      <td>Тюмень</td>\n",
       "      <td>ultra</td>\n",
       "      <td>6</td>\n",
       "      <td>0</td>\n",
       "      <td>199</td>\n",
       "    </tr>\n",
       "    <tr>\n",
       "      <th>2</th>\n",
       "      <td>1</td>\n",
       "      <td>754.159807</td>\n",
       "      <td>6.232113</td>\n",
       "      <td>2021-04-20</td>\n",
       "      <td>4</td>\n",
       "      <td>Кира</td>\n",
       "      <td>22</td>\n",
       "      <td>Тюмень</td>\n",
       "      <td>ultra</td>\n",
       "      <td>6</td>\n",
       "      <td>0</td>\n",
       "      <td>199</td>\n",
       "    </tr>\n",
       "    <tr>\n",
       "      <th>3</th>\n",
       "      <td>1</td>\n",
       "      <td>2694.783254</td>\n",
       "      <td>18.511000</td>\n",
       "      <td>2021-08-11</td>\n",
       "      <td>8</td>\n",
       "      <td>Кира</td>\n",
       "      <td>22</td>\n",
       "      <td>Тюмень</td>\n",
       "      <td>ultra</td>\n",
       "      <td>6</td>\n",
       "      <td>0</td>\n",
       "      <td>199</td>\n",
       "    </tr>\n",
       "    <tr>\n",
       "      <th>4</th>\n",
       "      <td>1</td>\n",
       "      <td>4028.687306</td>\n",
       "      <td>26.265803</td>\n",
       "      <td>2021-08-28</td>\n",
       "      <td>8</td>\n",
       "      <td>Кира</td>\n",
       "      <td>22</td>\n",
       "      <td>Тюмень</td>\n",
       "      <td>ultra</td>\n",
       "      <td>6</td>\n",
       "      <td>0</td>\n",
       "      <td>199</td>\n",
       "    </tr>\n",
       "  </tbody>\n",
       "</table>\n",
       "</div>"
      ],
      "text/plain": [
       "   user_id     distance   duration       date  month  name  age    city  \\\n",
       "0        1  4409.919140  25.599769 2021-01-01      1  Кира   22  Тюмень   \n",
       "1        1  2617.592153  15.816871 2021-01-18      1  Кира   22  Тюмень   \n",
       "2        1   754.159807   6.232113 2021-04-20      4  Кира   22  Тюмень   \n",
       "3        1  2694.783254  18.511000 2021-08-11      8  Кира   22  Тюмень   \n",
       "4        1  4028.687306  26.265803 2021-08-28      8  Кира   22  Тюмень   \n",
       "\n",
       "  subscription_type  minute_price  start_ride_price  subscription_fee  \n",
       "0             ultra             6                 0               199  \n",
       "1             ultra             6                 0               199  \n",
       "2             ultra             6                 0               199  \n",
       "3             ultra             6                 0               199  \n",
       "4             ultra             6                 0               199  "
      ]
     },
     "metadata": {},
     "output_type": "display_data"
    },
    {
     "data": {
      "text/plain": [
       "6672"
      ]
     },
     "metadata": {},
     "output_type": "display_data"
    }
   ],
   "source": [
    "df_with_S = df_merged[df_merged['subscription_type'] == 'ultra']\n",
    "display(df_with_S.head())\n",
    "display(df_with_S.count()[0])"
   ]
  },
  {
   "cell_type": "markdown",
   "id": "11bd53ed",
   "metadata": {},
   "source": [
    "<div class=\"alert alert-success\">\n",
    "<h2> Комментарий ревьюера v1 <a class=\"tocSkip\"> </h2>\n",
    "\n",
    "<b>Все супер!👍:</b> Датафреймы созданы"
   ]
  },
  {
   "cell_type": "code",
   "execution_count": 15,
   "id": "73b759b9",
   "metadata": {},
   "outputs": [
    {
     "data": {
      "image/png": "[encoded data removed]",
      "text/plain": [
       "<Figure size 432x288 with 1 Axes>"
      ]
     },
     "metadata": {
      "needs_background": "light"
     },
     "output_type": "display_data"
    }
   ],
   "source": [
    "df_without_S['distance'].plot(kind = 'hist', grid=True, bins = 30, label='без подписки')\n",
    "df_with_S['distance'].plot(kind = 'hist', grid=True, bins = 30, label='с подпиской Ultra')\n",
    "plt.title('Расстояние одной поездки для пользователей с подпиской и без')\n",
    "plt.xlabel('расстояние, м')\n",
    "plt.ylabel('количество пользователей')\n",
    "plt.legend(loc='upper right')\n",
    "plt.show()"
   ]
  },
  {
   "cell_type": "code",
   "execution_count": 16,
   "id": "0964197a",
   "metadata": {},
   "outputs": [
    {
     "data": {
      "image/png": "[encoded data removed]",
      "text/plain": [
       "<Figure size 432x288 with 1 Axes>"
      ]
     },
     "metadata": {
      "needs_background": "light"
     },
     "output_type": "display_data"
    }
   ],
   "source": [
    "df_without_S['duration'].plot(kind = 'hist', grid=True, bins = 30, label='без подписки')\n",
    "df_with_S['duration'].plot(kind = 'hist', grid=True, bins = 30, label='с подпиской Ultra')\n",
    "plt.title('Продолжительность одной поездки пользователей с подпиской и без')\n",
    "plt.xlabel('время, мин')\n",
    "plt.ylabel('количество пользователей')\n",
    "plt.legend(loc='upper right')\n",
    "plt.show()"
   ]
  },
  {
   "cell_type": "markdown",
   "id": "aae52003",
   "metadata": {},
   "source": [
    "# Вывод \n",
    "Были созданы датафреймы на основе объединенного из 3 датафреймов датафрейма с данными для пользователей с подпиской и без подписки. визуализированы данные с помошью гистограмм. Видно, что пользователей без подписки нескольок больше чем пользователей с подпиской."
   ]
  },
  {
   "cell_type": "markdown",
   "id": "78b8c212",
   "metadata": {},
   "source": [
    "<div class=\"alert alert-success\">\n",
    "<h2> Комментарий ревьюера v1 <a class=\"tocSkip\"> </h2>\n",
    "\n",
    "<b>Все супер!👍:</b>Огромный лайк, что совместил распределения, так намного нагляднее и информативнее"
   ]
  },
  {
   "cell_type": "markdown",
   "id": "bf1d416e",
   "metadata": {},
   "source": [
    "<div class=\"alert alert-block alert-danger\">\n",
    "<h2> Комментарий ревьюера v1 <a class=\"tocSkip\"></h2>\n",
    "\n",
    "<b>На доработку🤔:</b>  Необходимо добавить выводы\n",
    "    \n",
    "<div class=\"alert alert-info\">\n",
    "<b>Пофикшено</b> \n",
    "</div>"
   ]
  },
  {
   "cell_type": "markdown",
   "id": "bdc7f0ae",
   "metadata": {},
   "source": [
    "<div class=\"alert alert-success\">\n",
    "<h2> Комментарий ревьюера v2 <a class=\"tocSkip\"> </h2>\n",
    "\n",
    "<b>Все супер!👍:</b>С выводами согласен) "
   ]
  },
  {
   "cell_type": "markdown",
   "id": "402d620f",
   "metadata": {},
   "source": [
    "#### Шаг 5. Подсчёт выручки"
   ]
  },
  {
   "cell_type": "code",
   "execution_count": 38,
   "id": "53049e0a",
   "metadata": {},
   "outputs": [
    {
     "data": {
      "text/html": [
       "<div>\n",
       "<style scoped>\n",
       "    .dataframe tbody tr th:only-of-type {\n",
       "        vertical-align: middle;\n",
       "    }\n",
       "\n",
       "    .dataframe tbody tr th {\n",
       "        vertical-align: top;\n",
       "    }\n",
       "\n",
       "    .dataframe thead th {\n",
       "        text-align: right;\n",
       "    }\n",
       "</style>\n",
       "<table border=\"1\" class=\"dataframe\">\n",
       "  <thead>\n",
       "    <tr style=\"text-align: right;\">\n",
       "      <th></th>\n",
       "      <th>user_id</th>\n",
       "      <th>month</th>\n",
       "      <th>count_distance</th>\n",
       "      <th>sum_distance</th>\n",
       "      <th>sum_duration</th>\n",
       "    </tr>\n",
       "  </thead>\n",
       "  <tbody>\n",
       "    <tr>\n",
       "      <th>0</th>\n",
       "      <td>1</td>\n",
       "      <td>1</td>\n",
       "      <td>2</td>\n",
       "      <td>7027.511294</td>\n",
       "      <td>42</td>\n",
       "    </tr>\n",
       "    <tr>\n",
       "      <th>1</th>\n",
       "      <td>1</td>\n",
       "      <td>4</td>\n",
       "      <td>1</td>\n",
       "      <td>754.159807</td>\n",
       "      <td>7</td>\n",
       "    </tr>\n",
       "    <tr>\n",
       "      <th>2</th>\n",
       "      <td>1</td>\n",
       "      <td>8</td>\n",
       "      <td>2</td>\n",
       "      <td>6723.470560</td>\n",
       "      <td>46</td>\n",
       "    </tr>\n",
       "    <tr>\n",
       "      <th>3</th>\n",
       "      <td>1</td>\n",
       "      <td>10</td>\n",
       "      <td>2</td>\n",
       "      <td>5809.911100</td>\n",
       "      <td>32</td>\n",
       "    </tr>\n",
       "    <tr>\n",
       "      <th>4</th>\n",
       "      <td>1</td>\n",
       "      <td>11</td>\n",
       "      <td>3</td>\n",
       "      <td>7003.499363</td>\n",
       "      <td>56</td>\n",
       "    </tr>\n",
       "  </tbody>\n",
       "</table>\n",
       "</div>"
      ],
      "text/plain": [
       "   user_id  month  count_distance  sum_distance  sum_duration\n",
       "0        1      1               2   7027.511294            42\n",
       "1        1      4               1    754.159807             7\n",
       "2        1      8               2   6723.470560            46\n",
       "3        1     10               2   5809.911100            32\n",
       "4        1     11               3   7003.499363            56"
      ]
     },
     "metadata": {},
     "output_type": "display_data"
    }
   ],
   "source": [
    "df_merged['duration'] = np.ceil(df_merged['duration'])\n",
    "df_merged['duration'] = df_merged['duration'].astype('int')\n",
    "\n",
    "df_pivot = df_merged.pivot_table(index= ['user_id', 'month'], values = ['distance', 'duration'], aggfunc = ['count', 'sum'])\n",
    "df_pivot.columns = ['_'.join(col) for col in df_pivot.columns.values]\n",
    "\n",
    "df_pivot = df_pivot.drop(columns=['count_duration'])\n",
    "\n",
    "df_pivot = df_pivot.reset_index()\n",
    "display(df_pivot.head())"
   ]
  },
  {
   "cell_type": "code",
   "execution_count": 39,
   "id": "8a2b297c",
   "metadata": {},
   "outputs": [
    {
     "data": {
      "text/html": [
       "<div>\n",
       "<style scoped>\n",
       "    .dataframe tbody tr th:only-of-type {\n",
       "        vertical-align: middle;\n",
       "    }\n",
       "\n",
       "    .dataframe tbody tr th {\n",
       "        vertical-align: top;\n",
       "    }\n",
       "\n",
       "    .dataframe thead th {\n",
       "        text-align: right;\n",
       "    }\n",
       "</style>\n",
       "<table border=\"1\" class=\"dataframe\">\n",
       "  <thead>\n",
       "    <tr style=\"text-align: right;\">\n",
       "      <th></th>\n",
       "      <th>user_id</th>\n",
       "      <th>month</th>\n",
       "      <th>count_distance</th>\n",
       "      <th>sum_distance</th>\n",
       "      <th>sum_duration</th>\n",
       "      <th>name</th>\n",
       "      <th>age</th>\n",
       "      <th>city</th>\n",
       "      <th>subscription_type</th>\n",
       "      <th>minute_price</th>\n",
       "      <th>start_ride_price</th>\n",
       "      <th>subscription_fee</th>\n",
       "    </tr>\n",
       "  </thead>\n",
       "  <tbody>\n",
       "    <tr>\n",
       "      <th>0</th>\n",
       "      <td>1</td>\n",
       "      <td>1</td>\n",
       "      <td>2</td>\n",
       "      <td>7027.511294</td>\n",
       "      <td>42</td>\n",
       "      <td>Кира</td>\n",
       "      <td>22</td>\n",
       "      <td>Тюмень</td>\n",
       "      <td>ultra</td>\n",
       "      <td>6</td>\n",
       "      <td>0</td>\n",
       "      <td>199</td>\n",
       "    </tr>\n",
       "    <tr>\n",
       "      <th>1</th>\n",
       "      <td>1</td>\n",
       "      <td>4</td>\n",
       "      <td>1</td>\n",
       "      <td>754.159807</td>\n",
       "      <td>7</td>\n",
       "      <td>Кира</td>\n",
       "      <td>22</td>\n",
       "      <td>Тюмень</td>\n",
       "      <td>ultra</td>\n",
       "      <td>6</td>\n",
       "      <td>0</td>\n",
       "      <td>199</td>\n",
       "    </tr>\n",
       "    <tr>\n",
       "      <th>2</th>\n",
       "      <td>1</td>\n",
       "      <td>8</td>\n",
       "      <td>2</td>\n",
       "      <td>6723.470560</td>\n",
       "      <td>46</td>\n",
       "      <td>Кира</td>\n",
       "      <td>22</td>\n",
       "      <td>Тюмень</td>\n",
       "      <td>ultra</td>\n",
       "      <td>6</td>\n",
       "      <td>0</td>\n",
       "      <td>199</td>\n",
       "    </tr>\n",
       "    <tr>\n",
       "      <th>3</th>\n",
       "      <td>1</td>\n",
       "      <td>10</td>\n",
       "      <td>2</td>\n",
       "      <td>5809.911100</td>\n",
       "      <td>32</td>\n",
       "      <td>Кира</td>\n",
       "      <td>22</td>\n",
       "      <td>Тюмень</td>\n",
       "      <td>ultra</td>\n",
       "      <td>6</td>\n",
       "      <td>0</td>\n",
       "      <td>199</td>\n",
       "    </tr>\n",
       "    <tr>\n",
       "      <th>4</th>\n",
       "      <td>1</td>\n",
       "      <td>11</td>\n",
       "      <td>3</td>\n",
       "      <td>7003.499363</td>\n",
       "      <td>56</td>\n",
       "      <td>Кира</td>\n",
       "      <td>22</td>\n",
       "      <td>Тюмень</td>\n",
       "      <td>ultra</td>\n",
       "      <td>6</td>\n",
       "      <td>0</td>\n",
       "      <td>199</td>\n",
       "    </tr>\n",
       "  </tbody>\n",
       "</table>\n",
       "</div>"
      ],
      "text/plain": [
       "   user_id  month  count_distance  sum_distance  sum_duration  name  age  \\\n",
       "0        1      1               2   7027.511294            42  Кира   22   \n",
       "1        1      4               1    754.159807             7  Кира   22   \n",
       "2        1      8               2   6723.470560            46  Кира   22   \n",
       "3        1     10               2   5809.911100            32  Кира   22   \n",
       "4        1     11               3   7003.499363            56  Кира   22   \n",
       "\n",
       "     city subscription_type  minute_price  start_ride_price  subscription_fee  \n",
       "0  Тюмень             ultra             6                 0               199  \n",
       "1  Тюмень             ultra             6                 0               199  \n",
       "2  Тюмень             ultra             6                 0               199  \n",
       "3  Тюмень             ultra             6                 0               199  \n",
       "4  Тюмень             ultra             6                 0               199  "
      ]
     },
     "metadata": {},
     "output_type": "display_data"
    }
   ],
   "source": [
    "df_pivot = df_pivot.merge(df_users, how='left', on='user_id')\n",
    "df_pivot = df_pivot.merge(df_subs, how = 'left', on='subscription_type')\n",
    "display(df_pivot.head())"
   ]
  },
  {
   "cell_type": "code",
   "execution_count": 40,
   "id": "95845abd",
   "metadata": {},
   "outputs": [
    {
     "data": {
      "text/html": [
       "<div>\n",
       "<style scoped>\n",
       "    .dataframe tbody tr th:only-of-type {\n",
       "        vertical-align: middle;\n",
       "    }\n",
       "\n",
       "    .dataframe tbody tr th {\n",
       "        vertical-align: top;\n",
       "    }\n",
       "\n",
       "    .dataframe thead th {\n",
       "        text-align: right;\n",
       "    }\n",
       "</style>\n",
       "<table border=\"1\" class=\"dataframe\">\n",
       "  <thead>\n",
       "    <tr style=\"text-align: right;\">\n",
       "      <th></th>\n",
       "      <th>user_id</th>\n",
       "      <th>month</th>\n",
       "      <th>count_distance</th>\n",
       "      <th>sum_distance</th>\n",
       "      <th>sum_duration</th>\n",
       "      <th>name</th>\n",
       "      <th>age</th>\n",
       "      <th>city</th>\n",
       "      <th>subscription_type</th>\n",
       "      <th>minute_price</th>\n",
       "      <th>start_ride_price</th>\n",
       "      <th>subscription_fee</th>\n",
       "      <th>profit</th>\n",
       "    </tr>\n",
       "  </thead>\n",
       "  <tbody>\n",
       "    <tr>\n",
       "      <th>0</th>\n",
       "      <td>1</td>\n",
       "      <td>1</td>\n",
       "      <td>2</td>\n",
       "      <td>7027.511294</td>\n",
       "      <td>42</td>\n",
       "      <td>Кира</td>\n",
       "      <td>22</td>\n",
       "      <td>Тюмень</td>\n",
       "      <td>ultra</td>\n",
       "      <td>6</td>\n",
       "      <td>0</td>\n",
       "      <td>199</td>\n",
       "      <td>451</td>\n",
       "    </tr>\n",
       "    <tr>\n",
       "      <th>1</th>\n",
       "      <td>1</td>\n",
       "      <td>4</td>\n",
       "      <td>1</td>\n",
       "      <td>754.159807</td>\n",
       "      <td>7</td>\n",
       "      <td>Кира</td>\n",
       "      <td>22</td>\n",
       "      <td>Тюмень</td>\n",
       "      <td>ultra</td>\n",
       "      <td>6</td>\n",
       "      <td>0</td>\n",
       "      <td>199</td>\n",
       "      <td>241</td>\n",
       "    </tr>\n",
       "    <tr>\n",
       "      <th>2</th>\n",
       "      <td>1</td>\n",
       "      <td>8</td>\n",
       "      <td>2</td>\n",
       "      <td>6723.470560</td>\n",
       "      <td>46</td>\n",
       "      <td>Кира</td>\n",
       "      <td>22</td>\n",
       "      <td>Тюмень</td>\n",
       "      <td>ultra</td>\n",
       "      <td>6</td>\n",
       "      <td>0</td>\n",
       "      <td>199</td>\n",
       "      <td>475</td>\n",
       "    </tr>\n",
       "    <tr>\n",
       "      <th>3</th>\n",
       "      <td>1</td>\n",
       "      <td>10</td>\n",
       "      <td>2</td>\n",
       "      <td>5809.911100</td>\n",
       "      <td>32</td>\n",
       "      <td>Кира</td>\n",
       "      <td>22</td>\n",
       "      <td>Тюмень</td>\n",
       "      <td>ultra</td>\n",
       "      <td>6</td>\n",
       "      <td>0</td>\n",
       "      <td>199</td>\n",
       "      <td>391</td>\n",
       "    </tr>\n",
       "    <tr>\n",
       "      <th>4</th>\n",
       "      <td>1</td>\n",
       "      <td>11</td>\n",
       "      <td>3</td>\n",
       "      <td>7003.499363</td>\n",
       "      <td>56</td>\n",
       "      <td>Кира</td>\n",
       "      <td>22</td>\n",
       "      <td>Тюмень</td>\n",
       "      <td>ultra</td>\n",
       "      <td>6</td>\n",
       "      <td>0</td>\n",
       "      <td>199</td>\n",
       "      <td>535</td>\n",
       "    </tr>\n",
       "    <tr>\n",
       "      <th>...</th>\n",
       "      <td>...</td>\n",
       "      <td>...</td>\n",
       "      <td>...</td>\n",
       "      <td>...</td>\n",
       "      <td>...</td>\n",
       "      <td>...</td>\n",
       "      <td>...</td>\n",
       "      <td>...</td>\n",
       "      <td>...</td>\n",
       "      <td>...</td>\n",
       "      <td>...</td>\n",
       "      <td>...</td>\n",
       "      <td>...</td>\n",
       "    </tr>\n",
       "    <tr>\n",
       "      <th>11539</th>\n",
       "      <td>1534</td>\n",
       "      <td>6</td>\n",
       "      <td>2</td>\n",
       "      <td>3409.468534</td>\n",
       "      <td>26</td>\n",
       "      <td>Альберт</td>\n",
       "      <td>25</td>\n",
       "      <td>Краснодар</td>\n",
       "      <td>free</td>\n",
       "      <td>8</td>\n",
       "      <td>50</td>\n",
       "      <td>0</td>\n",
       "      <td>308</td>\n",
       "    </tr>\n",
       "    <tr>\n",
       "      <th>11540</th>\n",
       "      <td>1534</td>\n",
       "      <td>8</td>\n",
       "      <td>2</td>\n",
       "      <td>7622.453034</td>\n",
       "      <td>48</td>\n",
       "      <td>Альберт</td>\n",
       "      <td>25</td>\n",
       "      <td>Краснодар</td>\n",
       "      <td>free</td>\n",
       "      <td>8</td>\n",
       "      <td>50</td>\n",
       "      <td>0</td>\n",
       "      <td>484</td>\n",
       "    </tr>\n",
       "    <tr>\n",
       "      <th>11541</th>\n",
       "      <td>1534</td>\n",
       "      <td>9</td>\n",
       "      <td>1</td>\n",
       "      <td>4928.173852</td>\n",
       "      <td>23</td>\n",
       "      <td>Альберт</td>\n",
       "      <td>25</td>\n",
       "      <td>Краснодар</td>\n",
       "      <td>free</td>\n",
       "      <td>8</td>\n",
       "      <td>50</td>\n",
       "      <td>0</td>\n",
       "      <td>234</td>\n",
       "    </tr>\n",
       "    <tr>\n",
       "      <th>11542</th>\n",
       "      <td>1534</td>\n",
       "      <td>11</td>\n",
       "      <td>4</td>\n",
       "      <td>13350.015305</td>\n",
       "      <td>78</td>\n",
       "      <td>Альберт</td>\n",
       "      <td>25</td>\n",
       "      <td>Краснодар</td>\n",
       "      <td>free</td>\n",
       "      <td>8</td>\n",
       "      <td>50</td>\n",
       "      <td>0</td>\n",
       "      <td>824</td>\n",
       "    </tr>\n",
       "    <tr>\n",
       "      <th>11543</th>\n",
       "      <td>1534</td>\n",
       "      <td>12</td>\n",
       "      <td>1</td>\n",
       "      <td>2371.711192</td>\n",
       "      <td>16</td>\n",
       "      <td>Альберт</td>\n",
       "      <td>25</td>\n",
       "      <td>Краснодар</td>\n",
       "      <td>free</td>\n",
       "      <td>8</td>\n",
       "      <td>50</td>\n",
       "      <td>0</td>\n",
       "      <td>178</td>\n",
       "    </tr>\n",
       "  </tbody>\n",
       "</table>\n",
       "<p>11544 rows × 13 columns</p>\n",
       "</div>"
      ],
      "text/plain": [
       "       user_id  month  count_distance  sum_distance  sum_duration     name  \\\n",
       "0            1      1               2   7027.511294            42     Кира   \n",
       "1            1      4               1    754.159807             7     Кира   \n",
       "2            1      8               2   6723.470560            46     Кира   \n",
       "3            1     10               2   5809.911100            32     Кира   \n",
       "4            1     11               3   7003.499363            56     Кира   \n",
       "...        ...    ...             ...           ...           ...      ...   \n",
       "11539     1534      6               2   3409.468534            26  Альберт   \n",
       "11540     1534      8               2   7622.453034            48  Альберт   \n",
       "11541     1534      9               1   4928.173852            23  Альберт   \n",
       "11542     1534     11               4  13350.015305            78  Альберт   \n",
       "11543     1534     12               1   2371.711192            16  Альберт   \n",
       "\n",
       "       age       city subscription_type  minute_price  start_ride_price  \\\n",
       "0       22     Тюмень             ultra             6                 0   \n",
       "1       22     Тюмень             ultra             6                 0   \n",
       "2       22     Тюмень             ultra             6                 0   \n",
       "3       22     Тюмень             ultra             6                 0   \n",
       "4       22     Тюмень             ultra             6                 0   \n",
       "...    ...        ...               ...           ...               ...   \n",
       "11539   25  Краснодар              free             8                50   \n",
       "11540   25  Краснодар              free             8                50   \n",
       "11541   25  Краснодар              free             8                50   \n",
       "11542   25  Краснодар              free             8                50   \n",
       "11543   25  Краснодар              free             8                50   \n",
       "\n",
       "       subscription_fee  profit  \n",
       "0                   199     451  \n",
       "1                   199     241  \n",
       "2                   199     475  \n",
       "3                   199     391  \n",
       "4                   199     535  \n",
       "...                 ...     ...  \n",
       "11539                 0     308  \n",
       "11540                 0     484  \n",
       "11541                 0     234  \n",
       "11542                 0     824  \n",
       "11543                 0     178  \n",
       "\n",
       "[11544 rows x 13 columns]"
      ]
     },
     "metadata": {},
     "output_type": "display_data"
    }
   ],
   "source": [
    "# Добавляем столбец с помесячной выручкой, которую принёс каждый пользователь\n",
    "def profit(row):\n",
    "    profit_result = (row['start_ride_price'] * row['count_distance'] +\n",
    "              row['minute_price'] * row['sum_duration'] +\n",
    "              row['subscription_fee']\n",
    "              )\n",
    "    return profit_result\n",
    "\n",
    "df_pivot['profit'] = df_pivot.apply(profit, axis=1)\n",
    "display(df_pivot)"
   ]
  },
  {
   "cell_type": "code",
   "execution_count": 41,
   "id": "98ce5913",
   "metadata": {
    "scrolled": false
   },
   "outputs": [
    {
     "data": {
      "text/html": [
       "<div>\n",
       "<style scoped>\n",
       "    .dataframe tbody tr th:only-of-type {\n",
       "        vertical-align: middle;\n",
       "    }\n",
       "\n",
       "    .dataframe tbody tr th {\n",
       "        vertical-align: top;\n",
       "    }\n",
       "\n",
       "    .dataframe thead th {\n",
       "        text-align: right;\n",
       "    }\n",
       "</style>\n",
       "<table border=\"1\" class=\"dataframe\">\n",
       "  <thead>\n",
       "    <tr style=\"text-align: right;\">\n",
       "      <th></th>\n",
       "      <th>user_id</th>\n",
       "      <th>name</th>\n",
       "      <th>month</th>\n",
       "      <th>profit</th>\n",
       "    </tr>\n",
       "  </thead>\n",
       "  <tbody>\n",
       "    <tr>\n",
       "      <th>0</th>\n",
       "      <td>1</td>\n",
       "      <td>Кира</td>\n",
       "      <td>1</td>\n",
       "      <td>451</td>\n",
       "    </tr>\n",
       "    <tr>\n",
       "      <th>1</th>\n",
       "      <td>1</td>\n",
       "      <td>Кира</td>\n",
       "      <td>4</td>\n",
       "      <td>241</td>\n",
       "    </tr>\n",
       "    <tr>\n",
       "      <th>2</th>\n",
       "      <td>1</td>\n",
       "      <td>Кира</td>\n",
       "      <td>8</td>\n",
       "      <td>475</td>\n",
       "    </tr>\n",
       "    <tr>\n",
       "      <th>3</th>\n",
       "      <td>1</td>\n",
       "      <td>Кира</td>\n",
       "      <td>10</td>\n",
       "      <td>391</td>\n",
       "    </tr>\n",
       "    <tr>\n",
       "      <th>4</th>\n",
       "      <td>1</td>\n",
       "      <td>Кира</td>\n",
       "      <td>11</td>\n",
       "      <td>535</td>\n",
       "    </tr>\n",
       "    <tr>\n",
       "      <th>...</th>\n",
       "      <td>...</td>\n",
       "      <td>...</td>\n",
       "      <td>...</td>\n",
       "      <td>...</td>\n",
       "    </tr>\n",
       "    <tr>\n",
       "      <th>11539</th>\n",
       "      <td>1534</td>\n",
       "      <td>Альберт</td>\n",
       "      <td>6</td>\n",
       "      <td>308</td>\n",
       "    </tr>\n",
       "    <tr>\n",
       "      <th>11540</th>\n",
       "      <td>1534</td>\n",
       "      <td>Альберт</td>\n",
       "      <td>8</td>\n",
       "      <td>484</td>\n",
       "    </tr>\n",
       "    <tr>\n",
       "      <th>11541</th>\n",
       "      <td>1534</td>\n",
       "      <td>Альберт</td>\n",
       "      <td>9</td>\n",
       "      <td>234</td>\n",
       "    </tr>\n",
       "    <tr>\n",
       "      <th>11542</th>\n",
       "      <td>1534</td>\n",
       "      <td>Альберт</td>\n",
       "      <td>11</td>\n",
       "      <td>824</td>\n",
       "    </tr>\n",
       "    <tr>\n",
       "      <th>11543</th>\n",
       "      <td>1534</td>\n",
       "      <td>Альберт</td>\n",
       "      <td>12</td>\n",
       "      <td>178</td>\n",
       "    </tr>\n",
       "  </tbody>\n",
       "</table>\n",
       "<p>11544 rows × 4 columns</p>\n",
       "</div>"
      ],
      "text/plain": [
       "       user_id     name  month  profit\n",
       "0            1     Кира      1     451\n",
       "1            1     Кира      4     241\n",
       "2            1     Кира      8     475\n",
       "3            1     Кира     10     391\n",
       "4            1     Кира     11     535\n",
       "...        ...      ...    ...     ...\n",
       "11539     1534  Альберт      6     308\n",
       "11540     1534  Альберт      8     484\n",
       "11541     1534  Альберт      9     234\n",
       "11542     1534  Альберт     11     824\n",
       "11543     1534  Альберт     12     178\n",
       "\n",
       "[11544 rows x 4 columns]"
      ]
     },
     "metadata": {},
     "output_type": "display_data"
    }
   ],
   "source": [
    "display(df_pivot[['user_id', 'name', 'month', 'profit']])"
   ]
  },
  {
   "cell_type": "markdown",
   "id": "0b54edec",
   "metadata": {},
   "source": [
    "# Вывод\n",
    "Была посчитана помесячная выручка для каждого пользователя с подпиской и без и сформирован датафрейм с соответствующими данными."
   ]
  },
  {
   "cell_type": "markdown",
   "id": "2129cf96",
   "metadata": {},
   "source": [
    "<div class=\"alert alert-success\">\n",
    "<h2> Комментарий ревьюера v1 <a class=\"tocSkip\"> </h2>\n",
    "\n",
    "<b>Все супер!👍:</b> ПОдсчет выручки выполнен верно!"
   ]
  },
  {
   "cell_type": "markdown",
   "id": "40d63723",
   "metadata": {},
   "source": [
    "<div class=\"alert alert-block alert-danger\">\n",
    "<h2> Комментарий ревьюера v1 <a class=\"tocSkip\"></h2>\n",
    "\n",
    "<b>На доработку🤔:</b> Нет вывода\n",
    "    \n",
    "<div class=\"alert alert-info\">\n",
    "<b>Пофикшено</b> \n",
    "</div>"
   ]
  },
  {
   "cell_type": "markdown",
   "id": "e8746a03",
   "metadata": {},
   "source": [
    "<div class=\"alert alert-success\">\n",
    "<h2> Комментарий ревьюера v2 <a class=\"tocSkip\"> </h2>\n",
    "\n",
    "<b>Все супер!👍:</b> ЛАйк"
   ]
  },
  {
   "cell_type": "markdown",
   "id": "41545ac0",
   "metadata": {},
   "source": [
    "#### Шаг 6. Проверка гипотез"
   ]
  },
  {
   "cell_type": "markdown",
   "id": "fc371c7c",
   "metadata": {},
   "source": [
    "6.1 Важно понять, тратят ли пользователи с подпиской больше времени на поездки? Если да, то пользователи с подпиской могут быть «выгоднее» для компании. Проверьте гипотезу. Используйте исходные данные о продолжительности каждой сессии — отдельно для подписчиков и тех, у кого нет подписки.\n",
    "\n",
    "*   H0: среднее время поездок подписчиков и пользователей без подписки равны\n",
    "*   H1: подписчики тратят больше времени"
   ]
  },
  {
   "cell_type": "markdown",
   "id": "334ff2f2",
   "metadata": {},
   "source": [
    "<div class=\"alert alert-success\">\n",
    "<h2> Комментарий ревьюера v1 <a class=\"tocSkip\"> </h2>\n",
    "\n",
    "<b>Все супер!👍:</b>Гипотезы сформулированы верно "
   ]
  },
  {
   "cell_type": "code",
   "execution_count": 21,
   "id": "23ea867b",
   "metadata": {},
   "outputs": [
    {
     "name": "stdout",
     "output_type": "stream",
     "text": [
      "p-значение: 1.2804098316645618e-34\n",
      "Отвергаем нулевую гипотезу\n"
     ]
    }
   ],
   "source": [
    "alpha = 0.05 \n",
    "\n",
    "results = st.ttest_ind(df_with_S['duration'], df_without_S['duration'], alternative='greater')\n",
    "\n",
    "print('p-значение:', results.pvalue)\n",
    "\n",
    "if results.pvalue < alpha:\n",
    "    print('Отвергаем нулевую гипотезу')\n",
    "else:\n",
    "    print('Не отвергаем')"
   ]
  },
  {
   "cell_type": "markdown",
   "id": "1e301339",
   "metadata": {},
   "source": [
    "Считаем, что пользователи с подпиской могут быть «выгоднее» для компании и тратят больше времени."
   ]
  },
  {
   "cell_type": "markdown",
   "id": "ee8b170c",
   "metadata": {},
   "source": [
    "<div class=\"alert alert-success\">\n",
    "<h2> Комментарий ревьюера v1 <a class=\"tocSkip\"> </h2>\n",
    "\n",
    "<b>Все супер!👍:</b>Верно)"
   ]
  },
  {
   "cell_type": "markdown",
   "id": "10480d1e",
   "metadata": {},
   "source": [
    "6.2 Расстояние одной поездки в 3130 метров — оптимальное с точки зрения износа самоката. Можно ли сказать, что среднее расстояние, которое проезжают пользователи с подпиской за одну поездку, не превышает 3130 метров? Проверьте гипотезу и сделайте выводы.\n",
    "\n",
    "*   H0: среднее расстояние поездки поль-ля с подпиской равна 3130 метрам\n",
    "*   H1: среднее расстояние поездки поль-ля с подпиской меньше 3130 метров"
   ]
  },
  {
   "cell_type": "markdown",
   "id": "7226cd22",
   "metadata": {},
   "source": [
    "<div class=\"alert alert-success\">\n",
    "<h2> Комментарий ревьюера v1 <a class=\"tocSkip\"> </h2>\n",
    "\n",
    "<b>Все супер!👍:</b> Гипотезы сформулированы верно!"
   ]
  },
  {
   "cell_type": "code",
   "execution_count": 22,
   "id": "d1e47dc3",
   "metadata": {},
   "outputs": [
    {
     "name": "stdout",
     "output_type": "stream",
     "text": [
      "p-значение: 0.9195368847849785\n",
      "Не отвергаем\n"
     ]
    }
   ],
   "source": [
    "alpha = 0.05\n",
    "\n",
    "terget_value = 3130\n",
    "\n",
    "results = st.ttest_1samp(df_with_S['distance'], terget_value, alternative='greater')\n",
    "\n",
    "print('p-значение:', results.pvalue)\n",
    "\n",
    "if results.pvalue < alpha:\n",
    "    print('Отвергаем нулевую гипотезу')\n",
    "else:\n",
    "    print('Не отвергаем')"
   ]
  },
  {
   "cell_type": "markdown",
   "id": "b0c4110f",
   "metadata": {},
   "source": [
    "Считаем, что не можем отвергуть гипотезу о том, что среднее расстояние, которое проезжают пользователи с подпиской за одну поездку, не превышает 3130 метров."
   ]
  },
  {
   "cell_type": "markdown",
   "id": "2ca9962b",
   "metadata": {},
   "source": [
    "<div class=\"alert alert-success\">\n",
    "<h2> Комментарий ревьюера v1 <a class=\"tocSkip\"> </h2>\n",
    "\n",
    "<b>Все супер!👍:</b> +++"
   ]
  },
  {
   "cell_type": "markdown",
   "id": "ef13d913",
   "metadata": {},
   "source": [
    "6.3 Проверьте гипотезу о том, будет ли помесячная выручка от пользователей с подпиской по месяцам выше, чем выручка от пользователей без подписки. Сделайте вывод.\n",
    "\n",
    "*  H0: помесячная выручка от пользователей с подпиской и без равны.\n",
    "*  H1: помесячная выручка от пользователей с подпиской выше чем выручка от пользователей без подписки"
   ]
  },
  {
   "cell_type": "markdown",
   "id": "accf514c",
   "metadata": {},
   "source": [
    "<div class=\"alert alert-success\">\n",
    "<h2> Комментарий ревьюера v1 <a class=\"tocSkip\"> </h2>\n",
    "\n",
    "<b>Все супер!👍:</b>Гипотезы сформулированы верно"
   ]
  },
  {
   "cell_type": "code",
   "execution_count": 23,
   "id": "48d2bc68",
   "metadata": {},
   "outputs": [],
   "source": [
    "df_pivot_yS = df_pivot[df_pivot['subscription_type'] == 'ultra']\n",
    "df_pivot_nS = df_pivot[df_pivot['subscription_type'] == 'free']"
   ]
  },
  {
   "cell_type": "code",
   "execution_count": 24,
   "id": "8b72409f",
   "metadata": {},
   "outputs": [
    {
     "name": "stdout",
     "output_type": "stream",
     "text": [
      "p-значение: 1.8850394384715216e-31\n",
      "Отвергаем нулевую гипотезу\n"
     ]
    }
   ],
   "source": [
    "alpha = 0.05\n",
    "\n",
    "results = st.ttest_ind(df_pivot_yS['profit'], df_pivot_nS['profit'], alternative='greater')\n",
    "\n",
    "print('p-значение:', results.pvalue)\n",
    "\n",
    "if results.pvalue < alpha:\n",
    "    print('Отвергаем нулевую гипотезу')\n",
    "else:\n",
    "    print('Не отвергаем')"
   ]
  },
  {
   "cell_type": "markdown",
   "id": "34e047f7",
   "metadata": {},
   "source": [
    "Отдаем предпочтение гипотезе о том, помесячная выручка от пользователей с подпиской по месяцам выше, чем выручка от пользователей без подписки."
   ]
  },
  {
   "cell_type": "markdown",
   "id": "a0f03f79",
   "metadata": {},
   "source": [
    "<div class=\"alert alert-success\">\n",
    "<h2> Комментарий ревьюера v1 <a class=\"tocSkip\"> </h2>\n",
    "\n",
    "<b>Все супер!👍:</b> Топ!"
   ]
  },
  {
   "cell_type": "markdown",
   "id": "dc48bb2a",
   "metadata": {},
   "source": [
    "<div class=\"alert alert-warning\">\n",
    "    <h2> Комментарий ревьюера v1 <a class=\"tocSkip\"> </h2>\n",
    "    \n",
    "<b>Небольшие замечания и рекомендации💡:</b> Не забывай выводить средние оценки"
   ]
  },
  {
   "cell_type": "markdown",
   "id": "8310781a",
   "metadata": {},
   "source": [
    "6.4 Представьте такую ситуацию: техническая команда сервиса обновила сервера, с которыми взаимодействует мобильное приложение. Она надеется, что из-за этого количество обращений в техподдержку значимо снизилось. Некоторый файл содержит для каждого пользователя данные о количестве обращений до обновления и после него. Какой тест вам понадобился бы для проверки этой гипотезы?\n",
    "\n",
    "Левосторонний тест на равенство средних для зависимых (парных) выборок."
   ]
  },
  {
   "cell_type": "markdown",
   "id": "1875f7d8",
   "metadata": {},
   "source": [
    "<div class=\"alert alert-success\">\n",
    "<h2> Комментарий ревьюера v1 <a class=\"tocSkip\"> </h2>\n",
    "\n",
    "    \n",
    "<b>Все супер!👍:</b> Верно) "
   ]
  },
  {
   "cell_type": "markdown",
   "id": "25f75fbd",
   "metadata": {},
   "source": [
    "# Вывод \n",
    "Мы выяснили, что пользователей без подписки больше, но средняя помесячная выручка от пользователей с подпиской выше. Это говорит о успешности подписочной модели.\n",
    "\n",
    "Наши гипотезы о различии времени поездок и выручки между пользователями с подпиской и без подписки также подтвердились.\n",
    "\n",
    "Считаем, что пользователи с подпиской могут быть «выгоднее» для компании и тратят больше времени.\n",
    "Считаем, что не можем отвергуть гипотезу о том, что среднее расстояние, которое проезжают пользователи с подпиской за одну поездку, не превышает 3130 метров.\n",
    "Отдаем предпочтение гипотезе о том, помесячная выручка от пользователей с подпиской по месяцам выше, чем выручка от пользователей без подписки."
   ]
  },
  {
   "cell_type": "markdown",
   "id": "8b94c66e",
   "metadata": {},
   "source": [
    "# Общий вывод"
   ]
  },
  {
   "cell_type": "markdown",
   "id": "9482446d",
   "metadata": {},
   "source": [
    "В работе анализировались данные сервиса проката самокатов GoFast. Данные прошли предварительную обработку данных с приведением форомата данных колонки с даты к формату date и исследовательский анализ, где были показаны распределения данных.  \n",
    "Затем была подсчитана выручка для пользователя по месяцам.\n",
    "\n",
    "В начале, мы выяснили, что Пятигорск - самый популярный город среди пользователей, в то время как Москва показала меньшее количество пользователей. Средний возраст наших клиентов составляет примерно 24.9 лет, что помогает лучше определить целевую аудиторию.\n",
    "\n",
    "Анализ расстояния и продолжительности поездок показал, что большинство поездок превышают 3 километра, но также есть короткие поездки на расстояния около 600 метров, что скорее всего свидетельствует о том, что сервис используется для перемещения к остановкам общественного транспорта.\n",
    "\n",
    "Относительно подписки, мы выяснили, что пользователей без подписки больше, но средняя помесячная выручка от пользователей с подпиской выше. Это говорит о успешности подписочной модели.\n",
    "\n",
    "Наши гипотезы о различии времени поездок и выручки между пользователями с подпиской и без подписки также подтвердились.\n",
    "\n",
    "Считаем, что пользователи с подпиской могут быть «выгоднее» для компании и тратят больше времени.\n",
    "Считаем, что не можем отвергуть гипотезу о том, что среднее расстояние, которое проезжают пользователи с подпиской за одну поездку, не превышает 3130 метров.\n",
    "Отдаем предпочтение гипотезе о том, помесячная выручка от пользователей с подпиской по месяцам выше, чем выручка от пользователей без подписки."
   ]
  },
  {
   "cell_type": "markdown",
   "id": "0f3684d3",
   "metadata": {},
   "source": [
    "<div class=\"alert alert-block alert-danger\">\n",
    "<h2> Комментарий ревьюера v1 <a class=\"tocSkip\"></h2>\n",
    "\n",
    "<b>На доработку🤔:</b>  Необходимо доработать замечания\n",
    "    \n",
    "<div class=\"alert alert-info\">\n",
    "<b>Пофикшено</b> \n",
    "</div>"
   ]
  },
  {
   "cell_type": "markdown",
   "id": "1e06571f",
   "metadata": {},
   "source": [
    "<div class=\"alert alert-success\">\n",
    "<h2> Комментарий ревьюера v2 <a class=\"tocSkip\"> </h2>\n",
    "\n",
    "<b>Все супер!👍:</b>Все замечания учтены! Выводы отражают проделанную работу!"
   ]
  },
  {
   "cell_type": "markdown",
   "id": "71c2ee97",
   "metadata": {},
   "source": [
    "<div style=\"border:solid Chocolate 2px; padding: 40px\">\n",
    "    \n",
    "**Общий вывод по проекту ревьювера**:\n",
    "Спасибо за  проект! Ты приложил много усилий, чтобы довести его до конца, проделана огромная работа, и это видно невооруженным глазом, ты большой молодец!\n",
    "    \n",
    "**Отмечу положительные моменты**:\n",
    "    \n",
    "    1. Все разложено по полочкам, всегда понятен ход твоих мыслей, приятно смотреть\n",
    "    \n",
    "    2. Отличные визуализации\n",
    "    \n",
    "    3. На разных шагах проекта ты предлагал очень интересные решения и методы для их реализации. Хорошая работа!\n",
    "    \n",
    "    \n",
    "**На что стоит обратить внимание**:\n",
    "    \n",
    "    1. Отсутсвуют выводы по каждому разделу\n",
    "    \n",
    "    \n",
    "**Удачи и жду твой проект на повторное ревью!**"
   ]
  },
  {
   "cell_type": "markdown",
   "id": "6ef9bf21",
   "metadata": {},
   "source": [
    "<div style=\"border:solid Chocolate 2px; padding: 40px\">\n",
    "    \n",
    "**Общий вывод по проекту ревьювера V2**:\n",
    "Ошибки исправлены, проект принят, поздравляю тебя! Успешной учебы и еще увидимся в Практикуме!"
   ]
  },
  {
   "cell_type": "code",
   "execution_count": null,
   "id": "4b6fa4c8",
   "metadata": {},
   "outputs": [],
   "source": []
  }
 ],
 "metadata": {
  "ExecuteTimeLog": [
   {
    "duration": 113,
    "start_time": "2023-10-22T14:51:12.357Z"
   },
   {
    "duration": 49,
    "start_time": "2023-10-22T14:51:22.769Z"
   },
   {
    "duration": 459,
    "start_time": "2023-10-22T14:51:25.776Z"
   },
   {
    "duration": 310,
    "start_time": "2023-10-22T14:51:26.969Z"
   },
   {
    "duration": 89,
    "start_time": "2023-10-22T14:52:32.020Z"
   },
   {
    "duration": 42,
    "start_time": "2023-10-22T14:52:54.947Z"
   },
   {
    "duration": 32,
    "start_time": "2023-10-22T14:53:14.016Z"
   },
   {
    "duration": 35,
    "start_time": "2023-10-22T14:53:30.977Z"
   },
   {
    "duration": 34,
    "start_time": "2023-10-22T14:54:33.817Z"
   },
   {
    "duration": 34,
    "start_time": "2023-10-22T14:55:22.518Z"
   },
   {
    "duration": 18,
    "start_time": "2023-10-22T15:13:41.252Z"
   },
   {
    "duration": 20,
    "start_time": "2023-10-22T15:14:12.337Z"
   },
   {
    "duration": 33,
    "start_time": "2023-10-22T15:14:38.610Z"
   },
   {
    "duration": 19,
    "start_time": "2023-10-22T15:14:46.207Z"
   },
   {
    "duration": 20,
    "start_time": "2023-10-22T15:14:55.750Z"
   },
   {
    "duration": 20,
    "start_time": "2023-10-22T15:15:06.462Z"
   },
   {
    "duration": 18,
    "start_time": "2023-10-22T15:15:38.193Z"
   },
   {
    "duration": 26,
    "start_time": "2023-10-22T15:15:39.580Z"
   },
   {
    "duration": 9,
    "start_time": "2023-10-22T20:56:26.030Z"
   },
   {
    "duration": 27,
    "start_time": "2023-10-22T21:01:41.445Z"
   },
   {
    "duration": 70,
    "start_time": "2023-10-22T21:04:54.780Z"
   },
   {
    "duration": 677,
    "start_time": "2023-10-22T21:06:12.119Z"
   },
   {
    "duration": 3,
    "start_time": "2023-10-22T21:06:27.362Z"
   },
   {
    "duration": 194,
    "start_time": "2023-10-22T21:06:33.322Z"
   },
   {
    "duration": 159,
    "start_time": "2023-10-22T21:08:13.953Z"
   },
   {
    "duration": 267,
    "start_time": "2023-10-22T21:08:27.908Z"
   },
   {
    "duration": 192,
    "start_time": "2023-10-22T21:08:45.444Z"
   },
   {
    "duration": 188,
    "start_time": "2023-10-22T21:09:28.529Z"
   },
   {
    "duration": 35,
    "start_time": "2023-10-22T21:10:30.183Z"
   },
   {
    "duration": 18,
    "start_time": "2023-10-22T21:10:39.761Z"
   },
   {
    "duration": 18,
    "start_time": "2023-10-22T21:10:52.212Z"
   },
   {
    "duration": 314,
    "start_time": "2023-10-22T21:11:06.927Z"
   },
   {
    "duration": 299,
    "start_time": "2023-10-22T21:11:19.822Z"
   },
   {
    "duration": 12,
    "start_time": "2023-10-22T21:13:13.892Z"
   },
   {
    "duration": 3,
    "start_time": "2023-10-22T21:13:33.992Z"
   },
   {
    "duration": 42,
    "start_time": "2023-10-22T21:13:41.238Z"
   },
   {
    "duration": 26,
    "start_time": "2023-10-22T21:13:59.160Z"
   },
   {
    "duration": 223,
    "start_time": "2023-10-22T21:14:28.651Z"
   },
   {
    "duration": 839,
    "start_time": "2023-10-27T22:27:38.772Z"
   },
   {
    "duration": 437,
    "start_time": "2023-10-28T14:02:59.005Z"
   },
   {
    "duration": 195,
    "start_time": "2023-10-28T14:03:01.690Z"
   },
   {
    "duration": 39,
    "start_time": "2023-10-28T15:17:31.789Z"
   },
   {
    "duration": 20,
    "start_time": "2023-10-28T15:17:34.840Z"
   },
   {
    "duration": 8,
    "start_time": "2023-10-28T15:18:01.150Z"
   },
   {
    "duration": 727,
    "start_time": "2023-10-28T15:19:07.050Z"
   },
   {
    "duration": 2,
    "start_time": "2023-10-28T15:19:34.457Z"
   },
   {
    "duration": 178,
    "start_time": "2023-10-28T15:19:41.003Z"
   },
   {
    "duration": 156,
    "start_time": "2023-10-28T15:20:18.722Z"
   },
   {
    "duration": 129,
    "start_time": "2023-10-28T15:20:50.626Z"
   },
   {
    "duration": 171,
    "start_time": "2023-10-28T15:21:09.631Z"
   },
   {
    "duration": 164,
    "start_time": "2023-10-28T15:24:32.517Z"
   },
   {
    "duration": 186,
    "start_time": "2023-10-28T15:25:26.413Z"
   },
   {
    "duration": 291,
    "start_time": "2023-10-28T15:28:22.076Z"
   },
   {
    "duration": 321,
    "start_time": "2023-10-28T15:29:41.496Z"
   },
   {
    "duration": 299,
    "start_time": "2023-10-28T15:30:19.695Z"
   },
   {
    "duration": 298,
    "start_time": "2023-10-28T15:30:41.313Z"
   },
   {
    "duration": 484,
    "start_time": "2023-10-28T15:31:03.124Z"
   },
   {
    "duration": 9,
    "start_time": "2023-10-28T15:33:52.326Z"
   },
   {
    "duration": 33,
    "start_time": "2023-10-28T15:33:58.052Z"
   },
   {
    "duration": 21,
    "start_time": "2023-10-28T15:35:27.378Z"
   },
   {
    "duration": 23,
    "start_time": "2023-10-28T15:36:55.508Z"
   },
   {
    "duration": 9,
    "start_time": "2023-10-28T15:37:55.410Z"
   },
   {
    "duration": 21,
    "start_time": "2023-10-28T15:38:01.520Z"
   },
   {
    "duration": 19,
    "start_time": "2023-10-28T15:38:18.075Z"
   },
   {
    "duration": 21,
    "start_time": "2023-10-28T15:38:20.107Z"
   },
   {
    "duration": 15,
    "start_time": "2023-10-28T15:38:27.883Z"
   },
   {
    "duration": 27,
    "start_time": "2023-10-28T15:39:05.971Z"
   },
   {
    "duration": 23,
    "start_time": "2023-10-28T15:39:15.162Z"
   },
   {
    "duration": 15,
    "start_time": "2023-10-28T15:39:33.040Z"
   },
   {
    "duration": 20,
    "start_time": "2023-10-28T15:39:54.946Z"
   },
   {
    "duration": 19,
    "start_time": "2023-10-28T15:40:01.818Z"
   },
   {
    "duration": 264,
    "start_time": "2023-10-28T15:41:10.795Z"
   },
   {
    "duration": 258,
    "start_time": "2023-10-28T15:41:41.584Z"
   },
   {
    "duration": 6,
    "start_time": "2023-10-28T16:30:04.072Z"
   },
   {
    "duration": 59,
    "start_time": "2023-10-28T17:13:09.609Z"
   },
   {
    "duration": 40,
    "start_time": "2023-10-28T17:13:22.403Z"
   },
   {
    "duration": 54,
    "start_time": "2023-10-28T17:13:31.073Z"
   },
   {
    "duration": 38,
    "start_time": "2023-10-28T17:13:42.362Z"
   },
   {
    "duration": 24,
    "start_time": "2023-10-28T17:22:37.322Z"
   },
   {
    "duration": 28,
    "start_time": "2023-10-28T17:22:42.290Z"
   },
   {
    "duration": 40,
    "start_time": "2023-10-28T17:23:04.612Z"
   },
   {
    "duration": 39,
    "start_time": "2023-10-28T17:23:17.573Z"
   },
   {
    "duration": 18,
    "start_time": "2023-10-28T17:23:32.449Z"
   },
   {
    "duration": 32,
    "start_time": "2023-10-28T17:23:34.941Z"
   },
   {
    "duration": 1346,
    "start_time": "2023-10-28T17:26:30.638Z"
   },
   {
    "duration": 1249,
    "start_time": "2023-10-28T17:27:51.007Z"
   },
   {
    "duration": 2355,
    "start_time": "2023-10-28T17:28:55.548Z"
   },
   {
    "duration": 11,
    "start_time": "2023-10-28T17:29:36.486Z"
   },
   {
    "duration": 1718,
    "start_time": "2023-10-28T17:30:18.173Z"
   },
   {
    "duration": 18,
    "start_time": "2023-10-28T17:30:27.068Z"
   },
   {
    "duration": 199,
    "start_time": "2023-10-28T17:30:44.297Z"
   },
   {
    "duration": 194,
    "start_time": "2023-10-28T17:30:57.936Z"
   },
   {
    "duration": 192,
    "start_time": "2023-10-28T17:31:02.964Z"
   },
   {
    "duration": 223,
    "start_time": "2023-10-28T17:31:34.258Z"
   },
   {
    "duration": 10,
    "start_time": "2023-10-28T17:31:39.341Z"
   },
   {
    "duration": 16,
    "start_time": "2023-10-28T18:07:57.124Z"
   },
   {
    "duration": 582,
    "start_time": "2023-10-28T18:08:15.069Z"
   },
   {
    "duration": 47,
    "start_time": "2023-10-28T18:08:19.807Z"
   },
   {
    "duration": 5,
    "start_time": "2023-10-28T18:08:49.542Z"
   },
   {
    "duration": 6,
    "start_time": "2023-10-28T18:09:34.680Z"
   },
   {
    "duration": 18,
    "start_time": "2023-10-28T19:28:09.371Z"
   },
   {
    "duration": 13,
    "start_time": "2023-10-28T19:28:17.325Z"
   },
   {
    "duration": 5,
    "start_time": "2023-10-28T19:29:07.489Z"
   },
   {
    "duration": 6,
    "start_time": "2023-10-28T19:31:45.842Z"
   },
   {
    "duration": 5,
    "start_time": "2023-10-28T19:32:43.058Z"
   },
   {
    "duration": 15,
    "start_time": "2023-10-28T20:22:28.619Z"
   },
   {
    "duration": 6,
    "start_time": "2023-10-28T20:23:50.588Z"
   },
   {
    "duration": 6,
    "start_time": "2023-10-28T20:24:03.455Z"
   },
   {
    "duration": 6,
    "start_time": "2023-10-28T20:24:13.699Z"
   },
   {
    "duration": 7,
    "start_time": "2023-10-28T20:24:54.483Z"
   },
   {
    "duration": 9,
    "start_time": "2023-10-28T20:25:00.736Z"
   },
   {
    "duration": 13,
    "start_time": "2023-10-28T20:25:06.352Z"
   },
   {
    "duration": 5,
    "start_time": "2023-10-28T20:25:10.055Z"
   },
   {
    "duration": 6,
    "start_time": "2023-10-28T20:25:13.495Z"
   },
   {
    "duration": 1300,
    "start_time": "2023-10-29T09:05:00.281Z"
   },
   {
    "duration": 197,
    "start_time": "2023-10-29T09:05:01.583Z"
   },
   {
    "duration": 35,
    "start_time": "2023-10-29T09:05:01.782Z"
   },
   {
    "duration": 55,
    "start_time": "2023-10-29T09:05:01.819Z"
   },
   {
    "duration": 45,
    "start_time": "2023-10-29T09:05:01.875Z"
   },
   {
    "duration": 16,
    "start_time": "2023-10-29T09:05:01.921Z"
   },
   {
    "duration": 163,
    "start_time": "2023-10-29T09:05:01.938Z"
   },
   {
    "duration": 108,
    "start_time": "2023-10-29T09:05:02.102Z"
   },
   {
    "duration": 264,
    "start_time": "2023-10-29T09:05:02.211Z"
   },
   {
    "duration": 255,
    "start_time": "2023-10-29T09:05:02.478Z"
   },
   {
    "duration": 246,
    "start_time": "2023-10-29T09:05:02.734Z"
   },
   {
    "duration": 17,
    "start_time": "2023-10-29T09:05:02.982Z"
   },
   {
    "duration": 13,
    "start_time": "2023-10-29T09:05:03.001Z"
   },
   {
    "duration": 28,
    "start_time": "2023-10-29T09:05:03.015Z"
   },
   {
    "duration": 265,
    "start_time": "2023-10-29T09:05:03.045Z"
   },
   {
    "duration": 214,
    "start_time": "2023-10-29T09:05:03.311Z"
   },
   {
    "duration": 33,
    "start_time": "2023-10-29T09:05:03.526Z"
   },
   {
    "duration": 14,
    "start_time": "2023-10-29T09:05:03.560Z"
   },
   {
    "duration": 199,
    "start_time": "2023-10-29T09:05:03.575Z"
   },
   {
    "duration": 7,
    "start_time": "2023-10-29T09:05:03.775Z"
   },
   {
    "duration": 6,
    "start_time": "2023-10-29T09:05:03.783Z"
   },
   {
    "duration": 4,
    "start_time": "2023-10-29T09:05:03.790Z"
   },
   {
    "duration": 5,
    "start_time": "2023-10-29T09:05:03.795Z"
   },
   {
    "duration": 4,
    "start_time": "2023-10-29T09:05:03.802Z"
   },
   {
    "duration": 47,
    "start_time": "2023-10-29T11:30:36.294Z"
   },
   {
    "duration": 1217,
    "start_time": "2023-10-29T11:30:42.966Z"
   },
   {
    "duration": 187,
    "start_time": "2023-10-29T11:30:46.074Z"
   },
   {
    "duration": 47,
    "start_time": "2023-10-29T11:30:48.047Z"
   },
   {
    "duration": 38,
    "start_time": "2023-10-29T11:31:58.976Z"
   },
   {
    "duration": 53,
    "start_time": "2023-10-29T11:32:14.438Z"
   },
   {
    "duration": 51,
    "start_time": "2023-10-29T11:32:44.362Z"
   },
   {
    "duration": 16,
    "start_time": "2023-10-29T11:40:47.178Z"
   },
   {
    "duration": 1440,
    "start_time": "2023-10-29T11:41:04.787Z"
   },
   {
    "duration": 1448,
    "start_time": "2023-10-29T11:41:16.527Z"
   },
   {
    "duration": 4,
    "start_time": "2023-10-29T11:41:23.971Z"
   },
   {
    "duration": 5,
    "start_time": "2023-10-29T11:41:37.246Z"
   },
   {
    "duration": 7,
    "start_time": "2023-10-29T11:43:36.432Z"
   },
   {
    "duration": 7,
    "start_time": "2023-10-29T11:44:25.807Z"
   },
   {
    "duration": 6,
    "start_time": "2023-10-29T11:44:33.245Z"
   },
   {
    "duration": 8,
    "start_time": "2023-10-29T11:44:50.509Z"
   },
   {
    "duration": 13,
    "start_time": "2023-10-29T11:45:07.625Z"
   },
   {
    "duration": 16,
    "start_time": "2023-10-29T11:45:36.849Z"
   },
   {
    "duration": 13,
    "start_time": "2023-10-29T11:45:55.870Z"
   },
   {
    "duration": 9,
    "start_time": "2023-10-29T11:46:10.624Z"
   },
   {
    "duration": 9,
    "start_time": "2023-10-29T11:46:18.611Z"
   },
   {
    "duration": 9,
    "start_time": "2023-10-29T11:46:34.340Z"
   },
   {
    "duration": 74,
    "start_time": "2023-10-29T11:47:48.642Z"
   },
   {
    "duration": 171,
    "start_time": "2023-10-29T11:47:51.467Z"
   },
   {
    "duration": 147,
    "start_time": "2023-10-29T11:48:05.171Z"
   },
   {
    "duration": 161,
    "start_time": "2023-10-29T11:48:17.391Z"
   },
   {
    "duration": 154,
    "start_time": "2023-10-29T11:48:37.872Z"
   },
   {
    "duration": 155,
    "start_time": "2023-10-29T11:48:43.392Z"
   },
   {
    "duration": 21,
    "start_time": "2023-10-29T11:56:03.907Z"
   },
   {
    "duration": 123,
    "start_time": "2023-10-29T11:57:00.206Z"
   },
   {
    "duration": 180,
    "start_time": "2023-10-29T12:01:27.323Z"
   },
   {
    "duration": 80,
    "start_time": "2023-10-29T12:02:03.020Z"
   },
   {
    "duration": 81,
    "start_time": "2023-10-29T12:03:11.412Z"
   },
   {
    "duration": 327,
    "start_time": "2023-10-29T12:08:11.351Z"
   },
   {
    "duration": 24,
    "start_time": "2023-10-29T12:10:36.754Z"
   },
   {
    "duration": 22,
    "start_time": "2023-10-29T12:10:51.719Z"
   },
   {
    "duration": 19,
    "start_time": "2023-10-29T12:11:05.004Z"
   },
   {
    "duration": 35,
    "start_time": "2023-10-29T12:52:44.872Z"
   },
   {
    "duration": 20,
    "start_time": "2023-10-29T12:52:48.938Z"
   },
   {
    "duration": 198,
    "start_time": "2023-10-29T12:52:52.112Z"
   },
   {
    "duration": 13,
    "start_time": "2023-10-29T12:52:55.137Z"
   }
  ],
  "kernelspec": {
   "display_name": "Python 3 (ipykernel)",
   "language": "python",
   "name": "python3"
  },
  "language_info": {
   "codemirror_mode": {
    "name": "ipython",
    "version": 3
   },
   "file_extension": ".py",
   "mimetype": "text/x-python",
   "name": "python",
   "nbconvert_exporter": "python",
   "pygments_lexer": "ipython3",
   "version": "3.9.5"
  },
  "toc": {
   "base_numbering": 1,
   "nav_menu": {},
   "number_sections": true,
   "sideBar": true,
   "skip_h1_title": true,
   "title_cell": "Table of Contents",
   "title_sidebar": "Contents",
   "toc_cell": false,
   "toc_position": {},
   "toc_section_display": true,
   "toc_window_display": false
  }
 },
 "nbformat": 4,
 "nbformat_minor": 5
}
